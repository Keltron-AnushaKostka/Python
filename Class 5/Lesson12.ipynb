{
  "nbformat": 4,
  "nbformat_minor": 0,
  "metadata": {
    "colab": {
      "provenance": []
    },
    "kernelspec": {
      "name": "python3",
      "display_name": "Python 3"
    },
    "language_info": {
      "name": "python"
    }
  },
  "cells": [
    {
      "cell_type": "markdown",
      "source": [
        "# **Class 5 - Homework**"
      ],
      "metadata": {
        "id": "eCrI9gcNNqKc"
      }
    },
    {
      "cell_type": "markdown",
      "source": [
        "# **Python Arrays**"
      ],
      "metadata": {
        "id": "RHDYvdOONvb7"
      }
    },
    {
      "cell_type": "markdown",
      "source": [
        "**Arrays**"
      ],
      "metadata": {
        "id": "3pJeCpQ_QSTT"
      }
    },
    {
      "cell_type": "markdown",
      "source": [
        "Example"
      ],
      "metadata": {
        "id": "QkyCJeNjQYoz"
      }
    },
    {
      "cell_type": "code",
      "source": [
        "cars = [\"Ford\", \"Volvo\", \"BMW\"] # creating an array\n",
        "print(cars)"
      ],
      "metadata": {
        "colab": {
          "base_uri": "https://localhost:8080/"
        },
        "id": "Up7FXw9eQaG8",
        "outputId": "c6f79088-8255-4fda-bf5d-083b6d812c19"
      },
      "execution_count": 2,
      "outputs": [
        {
          "output_type": "stream",
          "name": "stdout",
          "text": [
            "['Ford', 'Volvo', 'BMW']\n"
          ]
        }
      ]
    },
    {
      "cell_type": "markdown",
      "source": [
        "**Accessing the Elements of an Array**"
      ],
      "metadata": {
        "id": "4GEddVd0Q8Pz"
      }
    },
    {
      "cell_type": "markdown",
      "source": [
        "Example"
      ],
      "metadata": {
        "id": "u1GkkU8eRRhZ"
      }
    },
    {
      "cell_type": "code",
      "source": [
        "cars = [\"Ford\", \"Volvo\", \"BMW\"]\n",
        "x = cars[0]   # Get the value of the first array element\n",
        "print(x)"
      ],
      "metadata": {
        "colab": {
          "base_uri": "https://localhost:8080/"
        },
        "id": "mWKow5oJRUVx",
        "outputId": "1a91de1e-d475-4c33-93b5-87d18eb968e5"
      },
      "execution_count": 4,
      "outputs": [
        {
          "output_type": "stream",
          "name": "stdout",
          "text": [
            "Ford\n"
          ]
        }
      ]
    },
    {
      "cell_type": "markdown",
      "source": [
        "**Modify the value of the first array element**"
      ],
      "metadata": {
        "id": "BoIxYLlHRl6J"
      }
    },
    {
      "cell_type": "markdown",
      "source": [
        "Example"
      ],
      "metadata": {
        "id": "Eo__-xtmRsls"
      }
    },
    {
      "cell_type": "code",
      "source": [
        "cars = [\"Ford\", \"Volvo\", \"BMW\"]\n",
        "cars[0] = \"Toyota\"    # modify the value of the first array element\n",
        "print(cars)"
      ],
      "metadata": {
        "colab": {
          "base_uri": "https://localhost:8080/"
        },
        "id": "th9lLHxxRtw1",
        "outputId": "3243d809-b79b-49af-c3e6-4f4d5753a041"
      },
      "execution_count": 5,
      "outputs": [
        {
          "output_type": "stream",
          "name": "stdout",
          "text": [
            "['Toyota', 'Volvo', 'BMW']\n"
          ]
        }
      ]
    },
    {
      "cell_type": "markdown",
      "source": [
        "**Length of Arrays**"
      ],
      "metadata": {
        "id": "iDIQplTiSEK2"
      }
    },
    {
      "cell_type": "markdown",
      "source": [
        "Example"
      ],
      "metadata": {
        "id": "94H5ZcYlSHQ5"
      }
    },
    {
      "cell_type": "code",
      "source": [
        "cars = [\"Ford\", \"Volvo\", \"BMW\"]\n",
        "x = len(cars) \n",
        "print(x) # print the number of items in the cars array"
      ],
      "metadata": {
        "colab": {
          "base_uri": "https://localhost:8080/"
        },
        "id": "IT7A0MXzSIWx",
        "outputId": "63bf2920-1a54-4731-e235-1614f994fd01"
      },
      "execution_count": 6,
      "outputs": [
        {
          "output_type": "stream",
          "name": "stdout",
          "text": [
            "3\n"
          ]
        }
      ]
    },
    {
      "cell_type": "markdown",
      "source": [
        "**Looping Array Elements**"
      ],
      "metadata": {
        "id": "HQYl-mXLSWke"
      }
    },
    {
      "cell_type": "markdown",
      "source": [
        "Example"
      ],
      "metadata": {
        "id": "XAaFpZxzSeWE"
      }
    },
    {
      "cell_type": "code",
      "source": [
        "for x in cars:\n",
        "  print(x) # print each item in the cars array"
      ],
      "metadata": {
        "colab": {
          "base_uri": "https://localhost:8080/"
        },
        "id": "fmrIl41LSgTt",
        "outputId": "72e31152-0e6a-49c2-bb10-6fdcb6ffdf18"
      },
      "execution_count": 7,
      "outputs": [
        {
          "output_type": "stream",
          "name": "stdout",
          "text": [
            "Ford\n",
            "Volvo\n",
            "BMW\n"
          ]
        }
      ]
    },
    {
      "cell_type": "markdown",
      "source": [
        "**Adding Array Elements**"
      ],
      "metadata": {
        "id": "jdwi9bP7TLr0"
      }
    },
    {
      "cell_type": "markdown",
      "source": [
        "Example"
      ],
      "metadata": {
        "id": "q-zwKdFcTPKz"
      }
    },
    {
      "cell_type": "code",
      "source": [
        "cars = [\"Ford\", \"Volvo\", \"BMW\"]\n",
        "cars.append(\"Honda\") # add one more element to the cars array\n",
        "print(cars)"
      ],
      "metadata": {
        "colab": {
          "base_uri": "https://localhost:8080/"
        },
        "id": "Ur0UhIF_TQcu",
        "outputId": "03e075f7-63ae-4c9b-d58e-54507f28f047"
      },
      "execution_count": 8,
      "outputs": [
        {
          "output_type": "stream",
          "name": "stdout",
          "text": [
            "['Ford', 'Volvo', 'BMW', 'Honda']\n"
          ]
        }
      ]
    },
    {
      "cell_type": "markdown",
      "source": [
        "**Removing Elements**"
      ],
      "metadata": {
        "id": "xGP_1EgwTlQa"
      }
    },
    {
      "cell_type": "markdown",
      "source": [
        "Example 1"
      ],
      "metadata": {
        "id": "aL9IJROZTpQA"
      }
    },
    {
      "cell_type": "code",
      "source": [
        "cars = [\"Ford\", \"Volvo\", \"BMW\"]\n",
        "cars.pop(1) # delete second element of the cars array\n",
        "print(cars)"
      ],
      "metadata": {
        "colab": {
          "base_uri": "https://localhost:8080/"
        },
        "id": "l3E3P853TqUg",
        "outputId": "c442bfca-9c2f-41a5-9071-7179d29fd950"
      },
      "execution_count": 9,
      "outputs": [
        {
          "output_type": "stream",
          "name": "stdout",
          "text": [
            "['Ford', 'BMW']\n"
          ]
        }
      ]
    },
    {
      "cell_type": "markdown",
      "source": [
        "Example 2"
      ],
      "metadata": {
        "id": "DBF3P3TdUGVu"
      }
    },
    {
      "cell_type": "code",
      "source": [
        "cars = [\"Ford\", \"Volvo\", \"BMW\"]\n",
        "cars.remove(\"Volvo\") # delete the element that has the value Volvo\n",
        "print(cars)"
      ],
      "metadata": {
        "colab": {
          "base_uri": "https://localhost:8080/"
        },
        "id": "OTWTF_2OUH2n",
        "outputId": "63698c01-f361-4933-8296-d1d457337f75"
      },
      "execution_count": 10,
      "outputs": [
        {
          "output_type": "stream",
          "name": "stdout",
          "text": [
            "['Ford', 'BMW']\n"
          ]
        }
      ]
    }
  ]
}