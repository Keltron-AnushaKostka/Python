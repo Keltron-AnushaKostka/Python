{
  "nbformat": 4,
  "nbformat_minor": 0,
  "metadata": {
    "colab": {
      "provenance": []
    },
    "kernelspec": {
      "name": "python3",
      "display_name": "Python 3"
    },
    "language_info": {
      "name": "python"
    }
  },
  "cells": [
    {
      "cell_type": "markdown",
      "source": [
        "# **Class 5 - 04/11/2022**"
      ],
      "metadata": {
        "id": "oVrIw73tVeh7"
      }
    },
    {
      "cell_type": "markdown",
      "source": [
        "# **Python Functions**"
      ],
      "metadata": {
        "id": "zS8uSKx0Vfux"
      }
    },
    {
      "cell_type": "markdown",
      "source": [
        "**Creating a Function**"
      ],
      "metadata": {
        "id": "lQuXNDnuIrn6"
      }
    },
    {
      "cell_type": "markdown",
      "source": [
        "Example"
      ],
      "metadata": {
        "id": "av5ep1GWIwXq"
      }
    },
    {
      "cell_type": "code",
      "source": [
        "def my_function(): # In Python, function is defined using the def keyword\n",
        "  print(\"Hello from my function\")"
      ],
      "metadata": {
        "id": "IL6RhKULIxzQ"
      },
      "execution_count": 1,
      "outputs": []
    },
    {
      "cell_type": "markdown",
      "source": [
        "**Calling a Function**"
      ],
      "metadata": {
        "id": "uruE2JlWJKW6"
      }
    },
    {
      "cell_type": "markdown",
      "source": [
        "Example"
      ],
      "metadata": {
        "id": "HOj2FN69JNq8"
      }
    },
    {
      "cell_type": "code",
      "source": [
        "def my_function():\n",
        "  print(\"Hello from my function\")\n",
        "\n",
        "my_function() # to call a function, use function name followed by parenthesis"
      ],
      "metadata": {
        "colab": {
          "base_uri": "https://localhost:8080/"
        },
        "id": "L9WljxZwJO4C",
        "outputId": "b4eff9cc-f2f4-44bb-c190-704f7fbe6819"
      },
      "execution_count": 2,
      "outputs": [
        {
          "output_type": "stream",
          "name": "stdout",
          "text": [
            "Hello from my function\n"
          ]
        }
      ]
    },
    {
      "cell_type": "markdown",
      "source": [
        "**Arguments**"
      ],
      "metadata": {
        "id": "Iay9BsGjJqOL"
      }
    },
    {
      "cell_type": "markdown",
      "source": [
        "Example"
      ],
      "metadata": {
        "id": "8qAz8NryJsoD"
      }
    },
    {
      "cell_type": "code",
      "source": [
        "def my_function(fname):\n",
        "  print(fname + \"Refsnes\")\n",
        "\n",
        "my_function(\"Emil \")\n",
        "my_function(\"Tobias \")\n",
        "my_function(\"Linus \")"
      ],
      "metadata": {
        "colab": {
          "base_uri": "https://localhost:8080/"
        },
        "id": "Gb7gI5yyJtxK",
        "outputId": "7159f3c0-184b-4f0b-9e99-52cd7eda379c"
      },
      "execution_count": 4,
      "outputs": [
        {
          "output_type": "stream",
          "name": "stdout",
          "text": [
            "Emil Refsnes\n",
            "Tobias Refsnes\n",
            "Linus Refsnes\n"
          ]
        }
      ]
    },
    {
      "cell_type": "markdown",
      "source": [
        "**Number of Arguments**"
      ],
      "metadata": {
        "id": "WBHqW-TfKYzy"
      }
    },
    {
      "cell_type": "markdown",
      "source": [
        "Example"
      ],
      "metadata": {
        "id": "QE6qc0VfKccL"
      }
    },
    {
      "cell_type": "code",
      "source": [
        "def my_function(fname, lname):\n",
        "  print(fname + \" \" + lname)\n",
        "\n",
        "my_function(\"Emil\") # displays an error, requires two arguments fname and lname but has only one argument fname"
      ],
      "metadata": {
        "colab": {
          "base_uri": "https://localhost:8080/",
          "height": 200
        },
        "id": "gaiBT0vUKdhL",
        "outputId": "1ddb9419-1dba-4704-c04d-6476963d1468"
      },
      "execution_count": 5,
      "outputs": [
        {
          "output_type": "error",
          "ename": "TypeError",
          "evalue": "ignored",
          "traceback": [
            "\u001b[0;31m---------------------------------------------------------------------------\u001b[0m",
            "\u001b[0;31mTypeError\u001b[0m                                 Traceback (most recent call last)",
            "\u001b[0;32m<ipython-input-5-49655f8043be>\u001b[0m in \u001b[0;36m<module>\u001b[0;34m\u001b[0m\n\u001b[1;32m      2\u001b[0m   \u001b[0mprint\u001b[0m\u001b[0;34m(\u001b[0m\u001b[0mfname\u001b[0m \u001b[0;34m+\u001b[0m \u001b[0;34m\" \"\u001b[0m \u001b[0;34m+\u001b[0m \u001b[0mlname\u001b[0m\u001b[0;34m)\u001b[0m\u001b[0;34m\u001b[0m\u001b[0;34m\u001b[0m\u001b[0m\n\u001b[1;32m      3\u001b[0m \u001b[0;34m\u001b[0m\u001b[0m\n\u001b[0;32m----> 4\u001b[0;31m \u001b[0mmy_function\u001b[0m\u001b[0;34m(\u001b[0m\u001b[0;34m\"Emil\"\u001b[0m\u001b[0;34m)\u001b[0m\u001b[0;34m\u001b[0m\u001b[0;34m\u001b[0m\u001b[0m\n\u001b[0m",
            "\u001b[0;31mTypeError\u001b[0m: my_function() missing 1 required positional argument: 'lname'"
          ]
        }
      ]
    },
    {
      "cell_type": "markdown",
      "source": [
        "**Arbitrary Arguments**"
      ],
      "metadata": {
        "id": "24B2KHGPLNzk"
      }
    },
    {
      "cell_type": "markdown",
      "source": [
        "Example"
      ],
      "metadata": {
        "id": "EgQQ7us9Lf3r"
      }
    },
    {
      "cell_type": "code",
      "source": [
        "def my_function(*kids): # If the number of arguments is unknown add a * before the parameter name\n",
        "  print(\"Youngest Child is \" + kids[2])\n",
        "\n",
        "my_function(\"Emil\", \"Tobias\", \"Linus\")"
      ],
      "metadata": {
        "colab": {
          "base_uri": "https://localhost:8080/"
        },
        "id": "ji3SFfkwLspD",
        "outputId": "6ffa6544-3e78-4477-ee32-d4c5cf1cc73d"
      },
      "execution_count": 6,
      "outputs": [
        {
          "output_type": "stream",
          "name": "stdout",
          "text": [
            "Youngest Child is Linus\n"
          ]
        }
      ]
    },
    {
      "cell_type": "markdown",
      "source": [
        "**Keyword Arguments**"
      ],
      "metadata": {
        "id": "EVk-3iEAMN1q"
      }
    },
    {
      "cell_type": "markdown",
      "source": [
        "Example"
      ],
      "metadata": {
        "id": "GNDC1FupMRP6"
      }
    },
    {
      "cell_type": "code",
      "source": [
        "def my_function(child1, child2, child3):\n",
        "  print(\" Youngest child is \" + child3)\n",
        "\n",
        "my_function(child1 = \"Emil\", child2 = \"Tobias\", child3 = \"Linus\") # arguments with key = value"
      ],
      "metadata": {
        "colab": {
          "base_uri": "https://localhost:8080/"
        },
        "id": "Pn_ET07KMSdE",
        "outputId": "81a7c92e-d254-4e19-c2d8-d304812084cd"
      },
      "execution_count": 7,
      "outputs": [
        {
          "output_type": "stream",
          "name": "stdout",
          "text": [
            " Youngest child is Linus\n"
          ]
        }
      ]
    },
    {
      "cell_type": "markdown",
      "source": [
        "**Arbitrary Keyword Arguments, kwargs**"
      ],
      "metadata": {
        "id": "H20F54TaMzSa"
      }
    },
    {
      "cell_type": "markdown",
      "source": [
        "Example"
      ],
      "metadata": {
        "id": "nxANFf0lM3eS"
      }
    },
    {
      "cell_type": "code",
      "source": [
        "def my_function(**kids): # if the number of keywords in unknown add a ** before the arguments\n",
        "  print(\"His last name is \" + kids[\"lname\"])\n",
        "\n",
        "my_function(fname = \"Tobias\", lname = \"Refsnes\")\n"
      ],
      "metadata": {
        "colab": {
          "base_uri": "https://localhost:8080/"
        },
        "id": "kOU59syOM4np",
        "outputId": "067c2637-5476-4bef-8929-40afcc59c19e"
      },
      "execution_count": 9,
      "outputs": [
        {
          "output_type": "stream",
          "name": "stdout",
          "text": [
            "His last name is Refsnes\n"
          ]
        }
      ]
    },
    {
      "cell_type": "markdown",
      "source": [
        "**Default Parameter Value**"
      ],
      "metadata": {
        "id": "rAEGJ4O3N3wd"
      }
    },
    {
      "cell_type": "markdown",
      "source": [
        "Example"
      ],
      "metadata": {
        "id": "g7u_KJgTN83l"
      }
    },
    {
      "cell_type": "code",
      "source": [
        "def my_function(country = \"Norway\"):\n",
        "  print(\"I am from \" + country)\n",
        "\n",
        "my_function(\"Sweden\")\n",
        "my_function(\"Brazil\")\n",
        "my_function()\n",
        "my_function(\"India\")"
      ],
      "metadata": {
        "colab": {
          "base_uri": "https://localhost:8080/"
        },
        "id": "AgP5_Dv2N-JK",
        "outputId": "fada832e-205a-4e1e-9c39-f5a1528407ff"
      },
      "execution_count": 10,
      "outputs": [
        {
          "output_type": "stream",
          "name": "stdout",
          "text": [
            "I am from Sweden\n",
            "I am from Brazil\n",
            "I am from Norway\n",
            "I am from India\n"
          ]
        }
      ]
    },
    {
      "cell_type": "markdown",
      "source": [
        "**Passing a List as an Argument**"
      ],
      "metadata": {
        "id": "ASfFxkUHOe-y"
      }
    },
    {
      "cell_type": "markdown",
      "source": [
        "Example"
      ],
      "metadata": {
        "id": "WUGw6p-6Okfi"
      }
    },
    {
      "cell_type": "code",
      "source": [
        "def my_function(food):\n",
        "  for x in food:\n",
        "    print(x)\n",
        "\n",
        "fruits = [\"apple\", \"banana\", \"cherry\"]\n",
        "my_function(fruits) # if u send list as a function, it will still be a list when it reaches the function"
      ],
      "metadata": {
        "colab": {
          "base_uri": "https://localhost:8080/"
        },
        "id": "lYrRR8PBOl0i",
        "outputId": "cde7f698-0170-4835-87e1-c7e24f4a1b61"
      },
      "execution_count": 11,
      "outputs": [
        {
          "output_type": "stream",
          "name": "stdout",
          "text": [
            "apple\n",
            "banana\n",
            "cherry\n"
          ]
        }
      ]
    },
    {
      "cell_type": "markdown",
      "source": [
        "**Return Values**"
      ],
      "metadata": {
        "id": "CP8IyVDwPHtS"
      }
    },
    {
      "cell_type": "markdown",
      "source": [
        "Example"
      ],
      "metadata": {
        "id": "C30GGWyHPKcS"
      }
    },
    {
      "cell_type": "code",
      "source": [
        "def my_function(x):\n",
        "  return(5 * x)\n",
        "\n",
        "print(my_function(3))\n",
        "print(my_function(7))\n",
        "print(my_function(9))"
      ],
      "metadata": {
        "colab": {
          "base_uri": "https://localhost:8080/"
        },
        "id": "VEsALbryPLhj",
        "outputId": "46be20d3-aabd-40a7-918d-3562a66bd7e5"
      },
      "execution_count": 12,
      "outputs": [
        {
          "output_type": "stream",
          "name": "stdout",
          "text": [
            "15\n",
            "35\n",
            "45\n"
          ]
        }
      ]
    },
    {
      "cell_type": "markdown",
      "source": [
        "**Pass Statement**"
      ],
      "metadata": {
        "id": "ZGTAI3r0PnTq"
      }
    },
    {
      "cell_type": "markdown",
      "source": [
        "Example"
      ],
      "metadata": {
        "id": "FYLpKMmQPqez"
      }
    },
    {
      "cell_type": "code",
      "source": [
        "def my_function():\n",
        "  pass"
      ],
      "metadata": {
        "id": "XIqvvBBhPrrq"
      },
      "execution_count": 13,
      "outputs": []
    }
  ]
}