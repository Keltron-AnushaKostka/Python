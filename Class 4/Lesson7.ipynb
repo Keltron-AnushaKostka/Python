{
  "nbformat": 4,
  "nbformat_minor": 0,
  "metadata": {
    "colab": {
      "provenance": []
    },
    "kernelspec": {
      "name": "python3",
      "display_name": "Python 3"
    },
    "language_info": {
      "name": "python"
    }
  },
  "cells": [
    {
      "cell_type": "markdown",
      "source": [
        "# **Class 4 - 01/11/2022**"
      ],
      "metadata": {
        "id": "z-GdL6rDieUZ"
      }
    },
    {
      "cell_type": "markdown",
      "source": [
        "# **Python Dictionaries**"
      ],
      "metadata": {
        "id": "0IYIet-q65uv"
      }
    },
    {
      "cell_type": "markdown",
      "source": [
        "**Dictionary**"
      ],
      "metadata": {
        "id": "Wt0p74rgijiA"
      }
    },
    {
      "cell_type": "markdown",
      "source": [
        "Example"
      ],
      "metadata": {
        "id": "M4CZPh7YiqVP"
      }
    },
    {
      "cell_type": "code",
      "source": [
        "thisdict = {\n",
        "    \"brand\": \"Ford\",\n",
        "    \"Model\": \"Mustang\",\n",
        "    \"Year\": 1964\n",
        "}\n",
        "print(thisdict) # creating and printing a dictionary"
      ],
      "metadata": {
        "colab": {
          "base_uri": "https://localhost:8080/"
        },
        "id": "yrDf0WIyirjg",
        "outputId": "0257f8b1-6996-4576-a2d0-8d2eefc44fc6"
      },
      "execution_count": 5,
      "outputs": [
        {
          "output_type": "stream",
          "name": "stdout",
          "text": [
            "{'brand': 'Ford', 'Model': 'Mustang', 'Year': 1964}\n"
          ]
        }
      ]
    },
    {
      "cell_type": "markdown",
      "source": [
        "**Accessing Items**"
      ],
      "metadata": {
        "id": "uMCFApOjjqhI"
      }
    },
    {
      "cell_type": "markdown",
      "source": [
        "Example"
      ],
      "metadata": {
        "id": "I9i-QVsMjuUo"
      }
    },
    {
      "cell_type": "code",
      "source": [
        "x = thisdict[\"Model\"] # get the value of model key\n",
        "print(x)"
      ],
      "metadata": {
        "colab": {
          "base_uri": "https://localhost:8080/"
        },
        "id": "n4uIbl1tjvop",
        "outputId": "ba7d6325-954a-4923-f715-b9bfec31bf17"
      },
      "execution_count": 9,
      "outputs": [
        {
          "output_type": "stream",
          "name": "stdout",
          "text": [
            "Mustang\n"
          ]
        }
      ]
    },
    {
      "cell_type": "markdown",
      "source": [
        "Example"
      ],
      "metadata": {
        "id": "d6JHcwaNkIuZ"
      }
    },
    {
      "cell_type": "code",
      "source": [
        "x = thisdict.get(\"Model\") # use get to print the value of the model key\n",
        "print(x)"
      ],
      "metadata": {
        "colab": {
          "base_uri": "https://localhost:8080/"
        },
        "id": "eA9k_YepkKDv",
        "outputId": "11a38dad-98bc-42fc-b861-890950003896"
      },
      "execution_count": 11,
      "outputs": [
        {
          "output_type": "stream",
          "name": "stdout",
          "text": [
            "Mustang\n"
          ]
        }
      ]
    },
    {
      "cell_type": "markdown",
      "source": [
        "**Change Values**"
      ],
      "metadata": {
        "id": "lYnNz-Sdkg1x"
      }
    },
    {
      "cell_type": "code",
      "source": [
        "thisdict = {\n",
        "    \"brand\" : \"Ford\",\n",
        "    \"Model\" : \"Mustang\",\n",
        "    \"Year\" : 1964\n",
        "}\n",
        "thisdict[\"Year\"] = 2018 # change the year from 1964 to 2018\n",
        "print(thisdict)"
      ],
      "metadata": {
        "colab": {
          "base_uri": "https://localhost:8080/"
        },
        "id": "hXNmnNZ_kjip",
        "outputId": "67133b30-c4b4-42ab-8e18-42177e1a0295"
      },
      "execution_count": 15,
      "outputs": [
        {
          "output_type": "stream",
          "name": "stdout",
          "text": [
            "{'brand': 'Ford', 'Model': 'Mustang', 'Year': 2018}\n"
          ]
        }
      ]
    },
    {
      "cell_type": "markdown",
      "source": [
        "**Loop Through a Dictionary**"
      ],
      "metadata": {
        "id": "fVP3hbTRlaSD"
      }
    },
    {
      "cell_type": "markdown",
      "source": [
        "Example"
      ],
      "metadata": {
        "id": "NAe9gjBplf2X"
      }
    },
    {
      "cell_type": "code",
      "source": [
        "for x in thisdict:\n",
        "  print(x) # print all key names in the dictionary"
      ],
      "metadata": {
        "colab": {
          "base_uri": "https://localhost:8080/"
        },
        "id": "5HyQlp-Hleg_",
        "outputId": "d31df1dd-5099-4c54-feaf-3b8ef9ff2a4c"
      },
      "execution_count": 16,
      "outputs": [
        {
          "output_type": "stream",
          "name": "stdout",
          "text": [
            "brand\n",
            "Model\n",
            "Year\n"
          ]
        }
      ]
    },
    {
      "cell_type": "markdown",
      "source": [
        "Example"
      ],
      "metadata": {
        "id": "nqAc5mzFluHI"
      }
    },
    {
      "cell_type": "code",
      "source": [
        "for x in thisdict:\n",
        "  print(thisdict[x]) # prints all key names in the dictionary one by one"
      ],
      "metadata": {
        "colab": {
          "base_uri": "https://localhost:8080/"
        },
        "id": "e1IlvVk4lvjI",
        "outputId": "bfa7307b-ebe6-4007-8373-06a7bdde9402"
      },
      "execution_count": 17,
      "outputs": [
        {
          "output_type": "stream",
          "name": "stdout",
          "text": [
            "Ford\n",
            "Mustang\n",
            "2018\n"
          ]
        }
      ]
    },
    {
      "cell_type": "markdown",
      "source": [
        "Example"
      ],
      "metadata": {
        "id": "-DEZhwSZmAlI"
      }
    },
    {
      "cell_type": "code",
      "source": [
        "for x in thisdict.values():\n",
        "  print(x) # use values method to return the values of the dictionary "
      ],
      "metadata": {
        "colab": {
          "base_uri": "https://localhost:8080/"
        },
        "id": "y7bS-nUImBzK",
        "outputId": "13eca641-f82c-4899-c429-96b03280bf97"
      },
      "execution_count": 24,
      "outputs": [
        {
          "output_type": "stream",
          "name": "stdout",
          "text": [
            "Ford\n",
            "Mustang\n",
            "2018\n"
          ]
        }
      ]
    },
    {
      "cell_type": "markdown",
      "source": [
        "Example"
      ],
      "metadata": {
        "id": "C6Ov_Hwxmo8q"
      }
    },
    {
      "cell_type": "code",
      "source": [
        "for x,y in thisdict.items(): # Loop through both the keys and values using the items method\n",
        "  print(x,y)"
      ],
      "metadata": {
        "colab": {
          "base_uri": "https://localhost:8080/"
        },
        "id": "xWiWs6Zymxbm",
        "outputId": "4684eec9-ba2b-40aa-e4a8-b85f8479b405"
      },
      "execution_count": 25,
      "outputs": [
        {
          "output_type": "stream",
          "name": "stdout",
          "text": [
            "brand Ford\n",
            "Model Mustang\n",
            "Year 2018\n"
          ]
        }
      ]
    },
    {
      "cell_type": "markdown",
      "source": [
        "**Check if Model Exists**"
      ],
      "metadata": {
        "id": "imtZm90bnGR2"
      }
    },
    {
      "cell_type": "markdown",
      "source": [
        "Example"
      ],
      "metadata": {
        "id": "FbCTjSNNnJ2P"
      }
    },
    {
      "cell_type": "code",
      "source": [
        "thisdict = {\n",
        "    \"brand\": \"Ford\",\n",
        "    \"Model\": \"Mustang\",\n",
        "    \"Year\": 1964\n",
        "}\n",
        "if \"Model\" in thisdict: # check if model os in the dictionary\n",
        "  print(\"Yes, Model is in the dictionary\")"
      ],
      "metadata": {
        "colab": {
          "base_uri": "https://localhost:8080/"
        },
        "id": "Lzrem5GUnK_r",
        "outputId": "1d25c8fb-93c6-4195-fbb1-8faa134be4de"
      },
      "execution_count": 26,
      "outputs": [
        {
          "output_type": "stream",
          "name": "stdout",
          "text": [
            "Yes, Model is in the dictionary\n"
          ]
        }
      ]
    },
    {
      "cell_type": "markdown",
      "source": [
        "**Dictionary Length**"
      ],
      "metadata": {
        "id": "aVXwgb0kn2Zh"
      }
    },
    {
      "cell_type": "markdown",
      "source": [
        "Example"
      ],
      "metadata": {
        "id": "vK9C-NsuoCfD"
      }
    },
    {
      "cell_type": "code",
      "source": [
        "print(len(thisdict)) # prints the number of items in the dictionary"
      ],
      "metadata": {
        "colab": {
          "base_uri": "https://localhost:8080/"
        },
        "id": "mVVTNRXEn52X",
        "outputId": "69ab864a-95a3-4c76-a4bc-00786539688d"
      },
      "execution_count": 27,
      "outputs": [
        {
          "output_type": "stream",
          "name": "stdout",
          "text": [
            "3\n"
          ]
        }
      ]
    },
    {
      "cell_type": "markdown",
      "source": [
        "**Adding Items**"
      ],
      "metadata": {
        "id": "I5s5LffMoHO4"
      }
    },
    {
      "cell_type": "markdown",
      "source": [
        "Example"
      ],
      "metadata": {
        "id": "-KwqNBluoK36"
      }
    },
    {
      "cell_type": "code",
      "source": [
        "thisdict = {\n",
        "    \"brand\": \"Ford\",\n",
        "    \"Model\": \"Mustang\",\n",
        "    \"Year\" : 1964\n",
        "}\n",
        "thisdict[\"Color\"] = \"Red\" # Adding an item to dictionary\n",
        "print(thisdict)\n"
      ],
      "metadata": {
        "colab": {
          "base_uri": "https://localhost:8080/"
        },
        "id": "LTMpIxXXoMM_",
        "outputId": "e49ccf4b-502e-4aa8-d8c0-19ac2cf4a775"
      },
      "execution_count": 28,
      "outputs": [
        {
          "output_type": "stream",
          "name": "stdout",
          "text": [
            "{'brand': 'Ford', 'Model': 'Mustang', 'Year': 1964, 'Color': 'Red'}\n"
          ]
        }
      ]
    },
    {
      "cell_type": "markdown",
      "source": [
        "**Removing Items**"
      ],
      "metadata": {
        "id": "XaV-Ripeou-X"
      }
    },
    {
      "cell_type": "markdown",
      "source": [
        "Example"
      ],
      "metadata": {
        "id": "D3TxTfh9oyEn"
      }
    },
    {
      "cell_type": "code",
      "source": [
        "thisdict = {\n",
        "    \"brand\": \"Ford\",\n",
        "    \"Model\": \"Mustang\",\n",
        "    \"Year\": 1964\n",
        "}\n",
        "thisdict.pop(\"Model\") # pop removes the item with the specified key name\n",
        "print(thisdict)"
      ],
      "metadata": {
        "colab": {
          "base_uri": "https://localhost:8080/"
        },
        "id": "SErJ9XgEozT3",
        "outputId": "e456a482-7fed-4909-a639-b70fd43632cb"
      },
      "execution_count": 30,
      "outputs": [
        {
          "output_type": "stream",
          "name": "stdout",
          "text": [
            "{'brand': 'Ford', 'Year': 1964}\n"
          ]
        }
      ]
    },
    {
      "cell_type": "markdown",
      "source": [
        "Example"
      ],
      "metadata": {
        "id": "76BwTfGapUwX"
      }
    },
    {
      "cell_type": "code",
      "source": [
        "thisdict = {\n",
        "    \"brand\": \"Ford\",\n",
        "    \"Model\": \"Mustang\",\n",
        "    \"Year\": 1964\n",
        "}\n",
        "thisdict.popitem() # removes the last item from the dictionary\n",
        "print(thisdict)"
      ],
      "metadata": {
        "colab": {
          "base_uri": "https://localhost:8080/"
        },
        "id": "HNIwWGhHpW2u",
        "outputId": "88af58ba-0265-447d-bd32-d7338d1d5d0c"
      },
      "execution_count": 32,
      "outputs": [
        {
          "output_type": "stream",
          "name": "stdout",
          "text": [
            "{'brand': 'Ford', 'Model': 'Mustang'}\n"
          ]
        }
      ]
    },
    {
      "cell_type": "markdown",
      "source": [
        "Example"
      ],
      "metadata": {
        "id": "kttsBX_zpzMX"
      }
    },
    {
      "cell_type": "code",
      "source": [
        "thisdict = {\n",
        "    \"brand\": \"Ford\",\n",
        "    \"Model\": \"Mustang\",\n",
        "    \"Year\": 1964\n",
        "}\n",
        "del thisdict[\"Model\"] # deletes the key and value Model from the dictionary\n",
        "print(thisdict)"
      ],
      "metadata": {
        "colab": {
          "base_uri": "https://localhost:8080/"
        },
        "id": "j5KdnCTxp03i",
        "outputId": "ed3a9c12-bbfb-4f18-dd7b-636ae4057351"
      },
      "execution_count": 33,
      "outputs": [
        {
          "output_type": "stream",
          "name": "stdout",
          "text": [
            "{'brand': 'Ford', 'Year': 1964}\n"
          ]
        }
      ]
    },
    {
      "cell_type": "markdown",
      "source": [
        "Example"
      ],
      "metadata": {
        "id": "4Kd-BEwkqMzJ"
      }
    },
    {
      "cell_type": "code",
      "source": [
        "thisdict = {\n",
        "    \"brand\": \"Ford\",\n",
        "    \"Model\": \"Mustang\",\n",
        "    \"Year\": 1964\n",
        "}\n",
        "del thisdict # deletes the dictionary\n",
        "print(thisdict) # displays an error as the dictionary is deleted\n"
      ],
      "metadata": {
        "colab": {
          "base_uri": "https://localhost:8080/",
          "height": 200
        },
        "id": "jwABw-QmqOSZ",
        "outputId": "62187155-aaea-434d-efbb-51be635fa89f"
      },
      "execution_count": 34,
      "outputs": [
        {
          "output_type": "error",
          "ename": "NameError",
          "evalue": "ignored",
          "traceback": [
            "\u001b[0;31m---------------------------------------------------------------------------\u001b[0m",
            "\u001b[0;31mNameError\u001b[0m                                 Traceback (most recent call last)",
            "\u001b[0;32m<ipython-input-34-dc94ea4a7541>\u001b[0m in \u001b[0;36m<module>\u001b[0;34m\u001b[0m\n\u001b[1;32m      5\u001b[0m }\n\u001b[1;32m      6\u001b[0m \u001b[0;32mdel\u001b[0m \u001b[0mthisdict\u001b[0m \u001b[0;31m# deletes the dictionary\u001b[0m\u001b[0;34m\u001b[0m\u001b[0;34m\u001b[0m\u001b[0m\n\u001b[0;32m----> 7\u001b[0;31m \u001b[0mprint\u001b[0m\u001b[0;34m(\u001b[0m\u001b[0mthisdict\u001b[0m\u001b[0;34m)\u001b[0m\u001b[0;34m\u001b[0m\u001b[0;34m\u001b[0m\u001b[0m\n\u001b[0m",
            "\u001b[0;31mNameError\u001b[0m: name 'thisdict' is not defined"
          ]
        }
      ]
    },
    {
      "cell_type": "markdown",
      "source": [
        "Example"
      ],
      "metadata": {
        "id": "piHEWbaUqyig"
      }
    },
    {
      "cell_type": "code",
      "source": [
        "thisdict = {\n",
        "    \"brand\": \"Ford\",\n",
        "    \"Model\": \"Mustang\",\n",
        "    \"Year\": 1964\n",
        "}\n",
        "thisdict.clear() # empties the dictionary\n",
        "print(thisdict)"
      ],
      "metadata": {
        "colab": {
          "base_uri": "https://localhost:8080/"
        },
        "id": "ygAfbbTUq45h",
        "outputId": "b9476aab-6eef-4b65-b39f-1e3798225395"
      },
      "execution_count": 35,
      "outputs": [
        {
          "output_type": "stream",
          "name": "stdout",
          "text": [
            "{}\n"
          ]
        }
      ]
    },
    {
      "cell_type": "markdown",
      "source": [
        "**Copy a Dictionary**"
      ],
      "metadata": {
        "id": "oPb5NdYvrTDu"
      }
    },
    {
      "cell_type": "markdown",
      "source": [
        "Example"
      ],
      "metadata": {
        "id": "uJArJ7FLrWNY"
      }
    },
    {
      "cell_type": "code",
      "source": [
        "thisdict = {\n",
        "    \"brand\": \"Ford\",\n",
        "    \"Model\": \"Mustang\",\n",
        "    \"Year\": 1964\n",
        "}\n",
        "mydict = thisdict.copy() # make a copy of the dictionary\n",
        "print(mydict)"
      ],
      "metadata": {
        "colab": {
          "base_uri": "https://localhost:8080/"
        },
        "id": "ijVluYxhrXWf",
        "outputId": "dadc31e7-fe8f-4cd3-9143-257746049260"
      },
      "execution_count": 37,
      "outputs": [
        {
          "output_type": "stream",
          "name": "stdout",
          "text": [
            "{'brand': 'Ford', 'Model': 'Mustang', 'Year': 1964}\n"
          ]
        }
      ]
    },
    {
      "cell_type": "markdown",
      "source": [
        "Example"
      ],
      "metadata": {
        "id": "Q_LkxBqZr1XA"
      }
    },
    {
      "cell_type": "code",
      "source": [
        "thisdict = {\n",
        "    \"brand\": \"Ford\",\n",
        "    \"Model\": \"Mustang\",\n",
        "    \"Year\": 1964\n",
        "}\n",
        "mydict = dict(thisdict) # make a copy using dict() function\n",
        "print(mydict)"
      ],
      "metadata": {
        "colab": {
          "base_uri": "https://localhost:8080/"
        },
        "id": "7t7cqQB_r6QX",
        "outputId": "3391c8c6-b370-4443-fbf5-5a981513b357"
      },
      "execution_count": 38,
      "outputs": [
        {
          "output_type": "stream",
          "name": "stdout",
          "text": [
            "{'brand': 'Ford', 'Model': 'Mustang', 'Year': 1964}\n"
          ]
        }
      ]
    },
    {
      "cell_type": "markdown",
      "source": [
        "**Nested Dictionaries**"
      ],
      "metadata": {
        "id": "SNU3yMFHsYQn"
      }
    },
    {
      "cell_type": "markdown",
      "source": [
        "Example"
      ],
      "metadata": {
        "id": "IeeUL1nlsbYP"
      }
    },
    {
      "cell_type": "code",
      "source": [
        "myFamily = {\n",
        "    \"Child1\" : {\n",
        "        \"Name\": \"Elias\",\n",
        "        \"Year\":2000\n",
        "    },\n",
        "    \"Child2\": {\n",
        "        \"Name\": \"Judy\",\n",
        "        \"Year\": 1995\n",
        "    },\n",
        "    \"Child3\": {\n",
        "        \"Name\": \"Tobias\",\n",
        "        \"Year\": 1998\n",
        "    }\n",
        "}\n",
        "print(myFamily) # print a dictionary that contains three dictionaries"
      ],
      "metadata": {
        "colab": {
          "base_uri": "https://localhost:8080/"
        },
        "id": "u1XiNlqTscm3",
        "outputId": "bac8d096-e215-4350-f9e1-2bb6b253b932"
      },
      "execution_count": 40,
      "outputs": [
        {
          "output_type": "stream",
          "name": "stdout",
          "text": [
            "{'Child1': {'Name': 'Elias', 'Year': 2000}, 'Child2': {'Name': 'Judy', 'Year': 1995}, 'Child3': {'Name': 'Tobias', 'Year': 1998}}\n"
          ]
        }
      ]
    },
    {
      "cell_type": "markdown",
      "source": [
        "Example"
      ],
      "metadata": {
        "id": "NUkPSu66tjcV"
      }
    },
    {
      "cell_type": "code",
      "source": [
        "Child1 = {\n",
        "    \"Name\": \"Elias\",\n",
        "    \"Year\":2000\n",
        "}\n",
        "Child2 = {\n",
        "    \"Name\": \"Judy\",\n",
        "    \"Year\": 1998\n",
        "}\n",
        "Child3 = {\n",
        "    \"Name\": \"Tobias\",\n",
        "    \"Year\": 1996\n",
        "}\n",
        "# create one dictionary that will contain the other three dictionaries\n",
        "myFamily = {           \n",
        "    \"Child1\": Child1,\n",
        "    \"Child2\": Child2,\n",
        "    \"Child3\": Child3\n",
        "}\n",
        "print(myFamily)"
      ],
      "metadata": {
        "colab": {
          "base_uri": "https://localhost:8080/"
        },
        "id": "7uFU2sQJtkua",
        "outputId": "aa006edb-7af5-489e-e943-206324f4d225"
      },
      "execution_count": 43,
      "outputs": [
        {
          "output_type": "stream",
          "name": "stdout",
          "text": [
            "{'Child1': {'Name': 'Elias', 'Year': 2000}, 'Child2': {'Name': 'Judy', 'Year': 1998}, 'Child3': {'Name': 'Tobias', 'Year': 1996}}\n"
          ]
        }
      ]
    },
    {
      "cell_type": "markdown",
      "source": [
        "**The Dict Constructor**"
      ],
      "metadata": {
        "id": "Y01h0JXxu5_J"
      }
    },
    {
      "cell_type": "markdown",
      "source": [
        "Example"
      ],
      "metadata": {
        "id": "xI3eZ-i0u9eA"
      }
    },
    {
      "cell_type": "code",
      "source": [
        "thisdict = dict(brand = \"Ford\", Model = \"Mustang\", Year = 1964) \n",
        "# use of equals rather than colon symbol for the assignment\n",
        "# keywords are not string literals\n",
        "print(thisdict)\n"
      ],
      "metadata": {
        "colab": {
          "base_uri": "https://localhost:8080/"
        },
        "id": "Zaoy4JcQt7vH",
        "outputId": "cce91b52-97e4-4ec2-eb7f-81301dcb317c"
      },
      "execution_count": 45,
      "outputs": [
        {
          "output_type": "stream",
          "name": "stdout",
          "text": [
            "{'brand': 'Ford', 'Model': 'Mustang', 'Year': 1964}\n"
          ]
        }
      ]
    }
  ]
}