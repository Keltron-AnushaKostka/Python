{
  "nbformat": 4,
  "nbformat_minor": 0,
  "metadata": {
    "colab": {
      "provenance": []
    },
    "kernelspec": {
      "name": "python3",
      "display_name": "Python 3"
    },
    "language_info": {
      "name": "python"
    }
  },
  "cells": [
    {
      "cell_type": "markdown",
      "source": [
        "# **Class 4 - 01/11/2022**"
      ],
      "metadata": {
        "id": "z-GdL6rDieUZ"
      }
    },
    {
      "cell_type": "markdown",
      "source": [
        "# **Python Dictionaries**"
      ],
      "metadata": {
        "id": "0IYIet-q65uv"
      }
    },
    {
      "cell_type": "markdown",
      "source": [
        "**Dictionary**"
      ],
      "metadata": {
        "id": "Wt0p74rgijiA"
      }
    },
    {
      "cell_type": "markdown",
      "source": [
        "Example"
      ],
      "metadata": {
        "id": "M4CZPh7YiqVP"
      }
    },
    {
      "cell_type": "code",
      "source": [
        "thisdict = {\n",
        "    \"brand\": \"Ford\",\n",
        "    \"Model\": \"Mustang\",\n",
        "    \"Year\": 1964\n",
        "}\n",
        "print(thisdict) # creating and printing a dictionary"
      ],
      "metadata": {
        "colab": {
          "base_uri": "https://localhost:8080/"
        },
        "id": "yrDf0WIyirjg",
        "outputId": "8f79d3f6-a625-4ebf-fdbb-64ccab82088c"
      },
      "execution_count": 1,
      "outputs": [
        {
          "output_type": "stream",
          "name": "stdout",
          "text": [
            "{'brand': 'Ford', 'Model': 'Mustang', 'Year': 1964}\n"
          ]
        }
      ]
    },
    {
      "cell_type": "markdown",
      "source": [
        "**Accessing Items**"
      ],
      "metadata": {
        "id": "uMCFApOjjqhI"
      }
    },
    {
      "cell_type": "markdown",
      "source": [
        "Example"
      ],
      "metadata": {
        "id": "I9i-QVsMjuUo"
      }
    },
    {
      "cell_type": "code",
      "source": [
        "x = thisdict[\"Model\"] # get the value of model key\n",
        "print(x)"
      ],
      "metadata": {
        "colab": {
          "base_uri": "https://localhost:8080/"
        },
        "id": "n4uIbl1tjvop",
        "outputId": "74367b9d-753b-41fa-c59b-702f5af9a8d5"
      },
      "execution_count": 2,
      "outputs": [
        {
          "output_type": "stream",
          "name": "stdout",
          "text": [
            "Mustang\n"
          ]
        }
      ]
    },
    {
      "cell_type": "markdown",
      "source": [
        "Example"
      ],
      "metadata": {
        "id": "d6JHcwaNkIuZ"
      }
    },
    {
      "cell_type": "code",
      "source": [
        "x = thisdict.get(\"Model\") # use get to print the value of the model key\n",
        "print(x)"
      ],
      "metadata": {
        "colab": {
          "base_uri": "https://localhost:8080/"
        },
        "id": "eA9k_YepkKDv",
        "outputId": "0e125c79-b501-4741-9a3a-687dc56f236a"
      },
      "execution_count": 3,
      "outputs": [
        {
          "output_type": "stream",
          "name": "stdout",
          "text": [
            "Mustang\n"
          ]
        }
      ]
    },
    {
      "cell_type": "markdown",
      "source": [
        "**Change Values**"
      ],
      "metadata": {
        "id": "lYnNz-Sdkg1x"
      }
    },
    {
      "cell_type": "code",
      "source": [
        "thisdict = {\n",
        "    \"brand\" : \"Ford\",\n",
        "    \"Model\" : \"Mustang\",\n",
        "    \"Year\" : 1964\n",
        "}\n",
        "thisdict[\"Year\"] = 2018 # change the year from 1964 to 2018\n",
        "print(thisdict)"
      ],
      "metadata": {
        "colab": {
          "base_uri": "https://localhost:8080/"
        },
        "id": "hXNmnNZ_kjip",
        "outputId": "6a5960af-87d4-4189-bc22-6d23dc71b9fd"
      },
      "execution_count": 4,
      "outputs": [
        {
          "output_type": "stream",
          "name": "stdout",
          "text": [
            "{'brand': 'Ford', 'Model': 'Mustang', 'Year': 2018}\n"
          ]
        }
      ]
    },
    {
      "cell_type": "markdown",
      "source": [
        "**Loop Through a Dictionary**"
      ],
      "metadata": {
        "id": "fVP3hbTRlaSD"
      }
    },
    {
      "cell_type": "markdown",
      "source": [
        "Example"
      ],
      "metadata": {
        "id": "NAe9gjBplf2X"
      }
    },
    {
      "cell_type": "code",
      "source": [
        "for x in thisdict:\n",
        "  print(x) # print all key names in the dictionary"
      ],
      "metadata": {
        "colab": {
          "base_uri": "https://localhost:8080/"
        },
        "id": "5HyQlp-Hleg_",
        "outputId": "b3528173-5a6c-4532-be79-9f7b5a46acc6"
      },
      "execution_count": 5,
      "outputs": [
        {
          "output_type": "stream",
          "name": "stdout",
          "text": [
            "brand\n",
            "Model\n",
            "Year\n"
          ]
        }
      ]
    },
    {
      "cell_type": "markdown",
      "source": [
        "Example"
      ],
      "metadata": {
        "id": "nqAc5mzFluHI"
      }
    },
    {
      "cell_type": "code",
      "source": [
        "for x in thisdict:\n",
        "  print(thisdict[x]) # prints all key names in the dictionary one by one"
      ],
      "metadata": {
        "colab": {
          "base_uri": "https://localhost:8080/"
        },
        "id": "e1IlvVk4lvjI",
        "outputId": "1d49dc4e-22c6-49b3-d873-e3c00f73a456"
      },
      "execution_count": 6,
      "outputs": [
        {
          "output_type": "stream",
          "name": "stdout",
          "text": [
            "Ford\n",
            "Mustang\n",
            "2018\n"
          ]
        }
      ]
    },
    {
      "cell_type": "markdown",
      "source": [
        "Example"
      ],
      "metadata": {
        "id": "-DEZhwSZmAlI"
      }
    },
    {
      "cell_type": "code",
      "source": [
        "for x in thisdict.values():\n",
        "  print(x) # use values method to return the values of the dictionary "
      ],
      "metadata": {
        "colab": {
          "base_uri": "https://localhost:8080/"
        },
        "id": "y7bS-nUImBzK",
        "outputId": "1ceea9ab-95f3-42fa-9dcc-f2c036342167"
      },
      "execution_count": 7,
      "outputs": [
        {
          "output_type": "stream",
          "name": "stdout",
          "text": [
            "Ford\n",
            "Mustang\n",
            "2018\n"
          ]
        }
      ]
    },
    {
      "cell_type": "markdown",
      "source": [
        "Example"
      ],
      "metadata": {
        "id": "C6Ov_Hwxmo8q"
      }
    },
    {
      "cell_type": "code",
      "source": [
        "for x,y in thisdict.items(): # Loop through both the keys and values using the items method\n",
        "  print(x,y)"
      ],
      "metadata": {
        "colab": {
          "base_uri": "https://localhost:8080/"
        },
        "id": "xWiWs6Zymxbm",
        "outputId": "8acf9a4e-08fc-402a-d631-58d76cda2eab"
      },
      "execution_count": 8,
      "outputs": [
        {
          "output_type": "stream",
          "name": "stdout",
          "text": [
            "brand Ford\n",
            "Model Mustang\n",
            "Year 2018\n"
          ]
        }
      ]
    },
    {
      "cell_type": "markdown",
      "source": [
        "**Check if Model Exists**"
      ],
      "metadata": {
        "id": "imtZm90bnGR2"
      }
    },
    {
      "cell_type": "markdown",
      "source": [
        "Example"
      ],
      "metadata": {
        "id": "FbCTjSNNnJ2P"
      }
    },
    {
      "cell_type": "code",
      "source": [
        "thisdict = {\n",
        "    \"brand\": \"Ford\",\n",
        "    \"Model\": \"Mustang\",\n",
        "    \"Year\": 1964\n",
        "}\n",
        "if \"Model\" in thisdict: # check if model is in the dictionary\n",
        "  print(\"Yes, Model is in the dictionary\")"
      ],
      "metadata": {
        "colab": {
          "base_uri": "https://localhost:8080/"
        },
        "id": "Lzrem5GUnK_r",
        "outputId": "17240903-6db0-4cbe-9e6d-44f3747fc57c"
      },
      "execution_count": 9,
      "outputs": [
        {
          "output_type": "stream",
          "name": "stdout",
          "text": [
            "Yes, Model is in the dictionary\n"
          ]
        }
      ]
    },
    {
      "cell_type": "markdown",
      "source": [
        "**Dictionary Length**"
      ],
      "metadata": {
        "id": "aVXwgb0kn2Zh"
      }
    },
    {
      "cell_type": "markdown",
      "source": [
        "Example"
      ],
      "metadata": {
        "id": "vK9C-NsuoCfD"
      }
    },
    {
      "cell_type": "code",
      "source": [
        "print(len(thisdict)) # prints the number of items in the dictionary"
      ],
      "metadata": {
        "colab": {
          "base_uri": "https://localhost:8080/"
        },
        "id": "mVVTNRXEn52X",
        "outputId": "daab799f-12dd-4cab-c745-824415ed65c6"
      },
      "execution_count": 10,
      "outputs": [
        {
          "output_type": "stream",
          "name": "stdout",
          "text": [
            "3\n"
          ]
        }
      ]
    },
    {
      "cell_type": "markdown",
      "source": [
        "**Adding Items**"
      ],
      "metadata": {
        "id": "I5s5LffMoHO4"
      }
    },
    {
      "cell_type": "markdown",
      "source": [
        "Example"
      ],
      "metadata": {
        "id": "-KwqNBluoK36"
      }
    },
    {
      "cell_type": "code",
      "source": [
        "thisdict = {\n",
        "    \"brand\": \"Ford\",\n",
        "    \"Model\": \"Mustang\",\n",
        "    \"Year\" : 1964\n",
        "}\n",
        "thisdict[\"Color\"] = \"Red\" # Adding an item to dictionary\n",
        "print(thisdict)\n"
      ],
      "metadata": {
        "colab": {
          "base_uri": "https://localhost:8080/"
        },
        "id": "LTMpIxXXoMM_",
        "outputId": "f9341813-3457-4f00-9a53-6fdc016a00e7"
      },
      "execution_count": 11,
      "outputs": [
        {
          "output_type": "stream",
          "name": "stdout",
          "text": [
            "{'brand': 'Ford', 'Model': 'Mustang', 'Year': 1964, 'Color': 'Red'}\n"
          ]
        }
      ]
    },
    {
      "cell_type": "markdown",
      "source": [
        "**Removing Items**"
      ],
      "metadata": {
        "id": "XaV-Ripeou-X"
      }
    },
    {
      "cell_type": "markdown",
      "source": [
        "Example"
      ],
      "metadata": {
        "id": "D3TxTfh9oyEn"
      }
    },
    {
      "cell_type": "code",
      "source": [
        "thisdict = {\n",
        "    \"brand\": \"Ford\",\n",
        "    \"Model\": \"Mustang\",\n",
        "    \"Year\": 1964\n",
        "}\n",
        "thisdict.pop(\"Model\") # pop removes the item with the specified key name\n",
        "print(thisdict)"
      ],
      "metadata": {
        "colab": {
          "base_uri": "https://localhost:8080/"
        },
        "id": "SErJ9XgEozT3",
        "outputId": "f7d918f1-0a19-4b3f-fd78-71fa64e0ee3b"
      },
      "execution_count": 12,
      "outputs": [
        {
          "output_type": "stream",
          "name": "stdout",
          "text": [
            "{'brand': 'Ford', 'Year': 1964}\n"
          ]
        }
      ]
    },
    {
      "cell_type": "markdown",
      "source": [
        "Example"
      ],
      "metadata": {
        "id": "76BwTfGapUwX"
      }
    },
    {
      "cell_type": "code",
      "source": [
        "thisdict = {\n",
        "    \"brand\": \"Ford\",\n",
        "    \"Model\": \"Mustang\",\n",
        "    \"Year\": 1964\n",
        "}\n",
        "thisdict.popitem() # removes the last item from the dictionary\n",
        "print(thisdict)"
      ],
      "metadata": {
        "colab": {
          "base_uri": "https://localhost:8080/"
        },
        "id": "HNIwWGhHpW2u",
        "outputId": "37c690a7-fc5c-47be-e490-880c5d0f8768"
      },
      "execution_count": 13,
      "outputs": [
        {
          "output_type": "stream",
          "name": "stdout",
          "text": [
            "{'brand': 'Ford', 'Model': 'Mustang'}\n"
          ]
        }
      ]
    },
    {
      "cell_type": "markdown",
      "source": [
        "Example"
      ],
      "metadata": {
        "id": "kttsBX_zpzMX"
      }
    },
    {
      "cell_type": "code",
      "source": [
        "thisdict = {\n",
        "    \"brand\": \"Ford\",\n",
        "    \"Model\": \"Mustang\",\n",
        "    \"Year\": 1964\n",
        "}\n",
        "del thisdict[\"Model\"] # deletes the key and value Model from the dictionary\n",
        "print(thisdict)"
      ],
      "metadata": {
        "colab": {
          "base_uri": "https://localhost:8080/"
        },
        "id": "j5KdnCTxp03i",
        "outputId": "60ad3aa9-fac5-4205-dc6f-08d5bfa181c8"
      },
      "execution_count": 14,
      "outputs": [
        {
          "output_type": "stream",
          "name": "stdout",
          "text": [
            "{'brand': 'Ford', 'Year': 1964}\n"
          ]
        }
      ]
    },
    {
      "cell_type": "markdown",
      "source": [
        "Example"
      ],
      "metadata": {
        "id": "4Kd-BEwkqMzJ"
      }
    },
    {
      "cell_type": "code",
      "source": [
        "thisdict = {\n",
        "    \"brand\": \"Ford\",\n",
        "    \"Model\": \"Mustang\",\n",
        "    \"Year\": 1964\n",
        "}\n",
        "del thisdict # deletes the dictionary\n",
        "print(thisdict) # displays an error as the dictionary is deleted\n"
      ],
      "metadata": {
        "colab": {
          "base_uri": "https://localhost:8080/",
          "height": 200
        },
        "id": "jwABw-QmqOSZ",
        "outputId": "afa33ef9-4717-42dc-f436-1de9b19f63f7"
      },
      "execution_count": 15,
      "outputs": [
        {
          "output_type": "error",
          "ename": "NameError",
          "evalue": "ignored",
          "traceback": [
            "\u001b[0;31m---------------------------------------------------------------------------\u001b[0m",
            "\u001b[0;31mNameError\u001b[0m                                 Traceback (most recent call last)",
            "\u001b[0;32m<ipython-input-15-2c8bab0a0ece>\u001b[0m in \u001b[0;36m<module>\u001b[0;34m\u001b[0m\n\u001b[1;32m      5\u001b[0m }\n\u001b[1;32m      6\u001b[0m \u001b[0;32mdel\u001b[0m \u001b[0mthisdict\u001b[0m \u001b[0;31m# deletes the dictionary\u001b[0m\u001b[0;34m\u001b[0m\u001b[0;34m\u001b[0m\u001b[0m\n\u001b[0;32m----> 7\u001b[0;31m \u001b[0mprint\u001b[0m\u001b[0;34m(\u001b[0m\u001b[0mthisdict\u001b[0m\u001b[0;34m)\u001b[0m \u001b[0;31m# displays an error as the dictionary is deleted\u001b[0m\u001b[0;34m\u001b[0m\u001b[0;34m\u001b[0m\u001b[0m\n\u001b[0m",
            "\u001b[0;31mNameError\u001b[0m: name 'thisdict' is not defined"
          ]
        }
      ]
    },
    {
      "cell_type": "markdown",
      "source": [
        "Example"
      ],
      "metadata": {
        "id": "piHEWbaUqyig"
      }
    },
    {
      "cell_type": "code",
      "source": [
        "thisdict = {\n",
        "    \"brand\": \"Ford\",\n",
        "    \"Model\": \"Mustang\",\n",
        "    \"Year\": 1964\n",
        "}\n",
        "thisdict.clear() # empties the dictionary\n",
        "print(thisdict)"
      ],
      "metadata": {
        "colab": {
          "base_uri": "https://localhost:8080/"
        },
        "id": "ygAfbbTUq45h",
        "outputId": "a7a80cab-ea69-4e3d-9f88-495c88039ce3"
      },
      "execution_count": 16,
      "outputs": [
        {
          "output_type": "stream",
          "name": "stdout",
          "text": [
            "{}\n"
          ]
        }
      ]
    },
    {
      "cell_type": "markdown",
      "source": [
        "**Copy a Dictionary**"
      ],
      "metadata": {
        "id": "oPb5NdYvrTDu"
      }
    },
    {
      "cell_type": "markdown",
      "source": [
        "Example"
      ],
      "metadata": {
        "id": "uJArJ7FLrWNY"
      }
    },
    {
      "cell_type": "code",
      "source": [
        "thisdict = {\n",
        "    \"brand\": \"Ford\",\n",
        "    \"Model\": \"Mustang\",\n",
        "    \"Year\": 1964\n",
        "}\n",
        "mydict = thisdict.copy() # make a copy of the dictionary\n",
        "print(mydict)"
      ],
      "metadata": {
        "colab": {
          "base_uri": "https://localhost:8080/"
        },
        "id": "ijVluYxhrXWf",
        "outputId": "25df9b2c-b6cd-486d-c111-6d8ef4f2c79e"
      },
      "execution_count": 17,
      "outputs": [
        {
          "output_type": "stream",
          "name": "stdout",
          "text": [
            "{'brand': 'Ford', 'Model': 'Mustang', 'Year': 1964}\n"
          ]
        }
      ]
    },
    {
      "cell_type": "markdown",
      "source": [
        "Example"
      ],
      "metadata": {
        "id": "Q_LkxBqZr1XA"
      }
    },
    {
      "cell_type": "code",
      "source": [
        "thisdict = {\n",
        "    \"brand\": \"Ford\",\n",
        "    \"Model\": \"Mustang\",\n",
        "    \"Year\": 1964\n",
        "}\n",
        "mydict = dict(thisdict) # make a copy using dict() function\n",
        "print(mydict)"
      ],
      "metadata": {
        "colab": {
          "base_uri": "https://localhost:8080/"
        },
        "id": "7t7cqQB_r6QX",
        "outputId": "46159d25-967c-400f-9d0f-7ecbcab992af"
      },
      "execution_count": 18,
      "outputs": [
        {
          "output_type": "stream",
          "name": "stdout",
          "text": [
            "{'brand': 'Ford', 'Model': 'Mustang', 'Year': 1964}\n"
          ]
        }
      ]
    },
    {
      "cell_type": "markdown",
      "source": [
        "**Nested Dictionaries**"
      ],
      "metadata": {
        "id": "SNU3yMFHsYQn"
      }
    },
    {
      "cell_type": "markdown",
      "source": [
        "Example"
      ],
      "metadata": {
        "id": "IeeUL1nlsbYP"
      }
    },
    {
      "cell_type": "code",
      "source": [
        "myFamily = {\n",
        "    \"Child1\" : {\n",
        "        \"Name\": \"Elias\",\n",
        "        \"Year\":2000\n",
        "    },\n",
        "    \"Child2\": {\n",
        "        \"Name\": \"Judy\",\n",
        "        \"Year\": 1995\n",
        "    },\n",
        "    \"Child3\": {\n",
        "        \"Name\": \"Tobias\",\n",
        "        \"Year\": 1998\n",
        "    }\n",
        "}\n",
        "print(myFamily) # print a dictionary that contains three dictionaries"
      ],
      "metadata": {
        "colab": {
          "base_uri": "https://localhost:8080/"
        },
        "id": "u1XiNlqTscm3",
        "outputId": "e2a50f3c-44a8-4947-91bb-d3e733e78a9e"
      },
      "execution_count": 19,
      "outputs": [
        {
          "output_type": "stream",
          "name": "stdout",
          "text": [
            "{'Child1': {'Name': 'Elias', 'Year': 2000}, 'Child2': {'Name': 'Judy', 'Year': 1995}, 'Child3': {'Name': 'Tobias', 'Year': 1998}}\n"
          ]
        }
      ]
    },
    {
      "cell_type": "markdown",
      "source": [
        "Example"
      ],
      "metadata": {
        "id": "NUkPSu66tjcV"
      }
    },
    {
      "cell_type": "code",
      "source": [
        "Child1 = {\n",
        "    \"Name\": \"Elias\",\n",
        "    \"Year\":2000\n",
        "}\n",
        "Child2 = {\n",
        "    \"Name\": \"Judy\",\n",
        "    \"Year\": 1998\n",
        "}\n",
        "Child3 = {\n",
        "    \"Name\": \"Tobias\",\n",
        "    \"Year\": 1996\n",
        "}\n",
        "# create one dictionary that will contain the other three dictionaries\n",
        "myFamily = {           \n",
        "    \"Child1\": Child1,\n",
        "    \"Child2\": Child2,\n",
        "    \"Child3\": Child3\n",
        "}\n",
        "print(myFamily)"
      ],
      "metadata": {
        "colab": {
          "base_uri": "https://localhost:8080/"
        },
        "id": "7uFU2sQJtkua",
        "outputId": "be1de3d0-af26-419d-ccb1-4f837a2afae5"
      },
      "execution_count": 20,
      "outputs": [
        {
          "output_type": "stream",
          "name": "stdout",
          "text": [
            "{'Child1': {'Name': 'Elias', 'Year': 2000}, 'Child2': {'Name': 'Judy', 'Year': 1998}, 'Child3': {'Name': 'Tobias', 'Year': 1996}}\n"
          ]
        }
      ]
    },
    {
      "cell_type": "markdown",
      "source": [
        "**The Dict Constructor**"
      ],
      "metadata": {
        "id": "Y01h0JXxu5_J"
      }
    },
    {
      "cell_type": "markdown",
      "source": [
        "Example"
      ],
      "metadata": {
        "id": "xI3eZ-i0u9eA"
      }
    },
    {
      "cell_type": "code",
      "source": [
        "thisdict = dict(brand = \"Ford\", Model = \"Mustang\", Year = 1964) \n",
        "# use of equals rather than colon symbol for the assignment\n",
        "# keywords are not string literals\n",
        "print(thisdict)\n"
      ],
      "metadata": {
        "colab": {
          "base_uri": "https://localhost:8080/"
        },
        "id": "Zaoy4JcQt7vH",
        "outputId": "019e1871-9882-48b0-f14b-982c7585c1b3"
      },
      "execution_count": 21,
      "outputs": [
        {
          "output_type": "stream",
          "name": "stdout",
          "text": [
            "{'brand': 'Ford', 'Model': 'Mustang', 'Year': 1964}\n"
          ]
        }
      ]
    }
  ]
}