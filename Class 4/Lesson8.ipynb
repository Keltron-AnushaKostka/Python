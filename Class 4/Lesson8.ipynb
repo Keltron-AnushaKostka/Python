{
  "nbformat": 4,
  "nbformat_minor": 0,
  "metadata": {
    "colab": {
      "provenance": []
    },
    "kernelspec": {
      "name": "python3",
      "display_name": "Python 3"
    },
    "language_info": {
      "name": "python"
    }
  },
  "cells": [
    {
      "cell_type": "markdown",
      "source": [
        "# **Class 4 - Homework**"
      ],
      "metadata": {
        "id": "-5myMj7Cyn8_"
      }
    },
    {
      "cell_type": "markdown",
      "source": [
        "# **Python If..Else**"
      ],
      "metadata": {
        "id": "-lKJeiu9ywve"
      }
    },
    {
      "cell_type": "markdown",
      "source": [
        "**If Statement**"
      ],
      "metadata": {
        "id": "YYafs0URzOYl"
      }
    },
    {
      "cell_type": "markdown",
      "source": [
        "Example"
      ],
      "metadata": {
        "id": "f0OwBqMdzTJu"
      }
    },
    {
      "cell_type": "code",
      "source": [
        "a = 33\n",
        "b = 200\n",
        "if b>a:\n",
        "  print(\"b greater than a\")"
      ],
      "metadata": {
        "colab": {
          "base_uri": "https://localhost:8080/"
        },
        "id": "-n0hSjb5zUVZ",
        "outputId": "250d2f62-cdf5-4f1c-a97b-13dd37068743"
      },
      "execution_count": 2,
      "outputs": [
        {
          "output_type": "stream",
          "name": "stdout",
          "text": [
            "b greater than a\n"
          ]
        }
      ]
    },
    {
      "cell_type": "markdown",
      "source": [
        "**Indentation**"
      ],
      "metadata": {
        "id": "5DwdnpNHzpWW"
      }
    },
    {
      "cell_type": "markdown",
      "source": [
        "Example"
      ],
      "metadata": {
        "id": "1UUHEwBozsDP"
      }
    },
    {
      "cell_type": "code",
      "source": [
        "a = 33\n",
        "b = 200\n",
        "if b>a:\n",
        "print(\"b is greater than a\") # displays an error as there is no space"
      ],
      "metadata": {
        "id": "N_3mAQxZztOG"
      },
      "execution_count": null,
      "outputs": []
    },
    {
      "cell_type": "markdown",
      "source": [
        "**Elif**"
      ],
      "metadata": {
        "id": "2ZCd2ngC0GXg"
      }
    },
    {
      "cell_type": "markdown",
      "source": [
        "Example"
      ],
      "metadata": {
        "id": "ZQKberoh0KU_"
      }
    },
    {
      "cell_type": "code",
      "source": [
        "a = 33\n",
        "b = 200\n",
        "if b > a:\n",
        "  print(\"b is greater than a\")\n",
        "elif (b == a):\n",
        "  print(\"a and b are equal\")\n",
        "\n",
        "\n"
      ],
      "metadata": {
        "colab": {
          "base_uri": "https://localhost:8080/"
        },
        "id": "PW823DZg0JR2",
        "outputId": "77753717-58f5-44c5-928b-03496cb15bac"
      },
      "execution_count": 4,
      "outputs": [
        {
          "output_type": "stream",
          "name": "stdout",
          "text": [
            "b is greater than a\n"
          ]
        }
      ]
    },
    {
      "cell_type": "markdown",
      "source": [
        "**Else**"
      ],
      "metadata": {
        "id": "jfBFQxvO1KGI"
      }
    },
    {
      "cell_type": "markdown",
      "source": [
        "Example"
      ],
      "metadata": {
        "id": "9SlOCdIb1LPu"
      }
    },
    {
      "cell_type": "code",
      "source": [
        "a = 33\n",
        "b = 200\n",
        "if b > a:\n",
        "  print(\"b is greater than a\")\n",
        "elif (b == a):\n",
        "  print(\"a is equal to b\")\n",
        "else:\n",
        "  print(\"b is greater than a\")"
      ],
      "metadata": {
        "colab": {
          "base_uri": "https://localhost:8080/"
        },
        "id": "pBr_SmZ21O7d",
        "outputId": "0ce51231-9898-4eff-9607-8fca44ebcca8"
      },
      "execution_count": 5,
      "outputs": [
        {
          "output_type": "stream",
          "name": "stdout",
          "text": [
            "b is greater than a\n"
          ]
        }
      ]
    },
    {
      "cell_type": "markdown",
      "source": [
        "Example"
      ],
      "metadata": {
        "id": "q0NZ-9CM1ue3"
      }
    },
    {
      "cell_type": "code",
      "source": [
        "a = 33\n",
        "b = 200\n",
        "if b > a:\n",
        "  print(\"b is greater than a\")\n",
        "else:\n",
        "  print(\"a is greater than b\")"
      ],
      "metadata": {
        "colab": {
          "base_uri": "https://localhost:8080/"
        },
        "id": "tjOY8P-k1vw_",
        "outputId": "1317608a-a53e-4da1-810c-640baad1d51a"
      },
      "execution_count": 6,
      "outputs": [
        {
          "output_type": "stream",
          "name": "stdout",
          "text": [
            "b is greater than a\n"
          ]
        }
      ]
    },
    {
      "cell_type": "markdown",
      "source": [
        "**Shorthand If**"
      ],
      "metadata": {
        "id": "Y1jY6CU12BPm"
      }
    },
    {
      "cell_type": "markdown",
      "source": [
        "Example"
      ],
      "metadata": {
        "id": "IjTAlbnz2F5X"
      }
    },
    {
      "cell_type": "code",
      "source": [
        "if b > a: print(\"b is greater than a\") # one line if statement"
      ],
      "metadata": {
        "colab": {
          "base_uri": "https://localhost:8080/"
        },
        "id": "JJIlZ0Df2OTo",
        "outputId": "d5fb08a4-d604-49df-bdd2-d848f88cce94"
      },
      "execution_count": 7,
      "outputs": [
        {
          "output_type": "stream",
          "name": "stdout",
          "text": [
            "b is greater than a\n"
          ]
        }
      ]
    },
    {
      "cell_type": "markdown",
      "source": [
        "**Shorthand If..Else**"
      ],
      "metadata": {
        "id": "xQzJbllM2d-m"
      }
    },
    {
      "cell_type": "markdown",
      "source": [
        "*Ternary Operators or Conditional Expressions*"
      ],
      "metadata": {
        "id": "WoIR32B56X-u"
      }
    },
    {
      "cell_type": "markdown",
      "source": [
        "Example"
      ],
      "metadata": {
        "id": "ZVmJ036G2iBN"
      }
    },
    {
      "cell_type": "code",
      "source": [
        "a = 2\n",
        "b = 330\n",
        "print(\"A\") if (a > b) else print(\"B\") # One line if else statement"
      ],
      "metadata": {
        "colab": {
          "base_uri": "https://localhost:8080/"
        },
        "id": "nXB1HH8C2k2u",
        "outputId": "d1bda939-b109-4f7e-b276-d376c52ba513"
      },
      "execution_count": 8,
      "outputs": [
        {
          "output_type": "stream",
          "name": "stdout",
          "text": [
            "B\n"
          ]
        }
      ]
    },
    {
      "cell_type": "markdown",
      "source": [
        "Example"
      ],
      "metadata": {
        "id": "OmworI5_3MrV"
      }
    },
    {
      "cell_type": "code",
      "source": [
        "a = 330\n",
        "b = 330\n",
        "print(\"A\") if (a > b) else print(\"=\") if (a==b) else print(\"B\")"
      ],
      "metadata": {
        "colab": {
          "base_uri": "https://localhost:8080/"
        },
        "id": "HN6Q6ciY3ODd",
        "outputId": "e23fe69a-4ff1-498f-a4ff-ee5d04caac36"
      },
      "execution_count": 9,
      "outputs": [
        {
          "output_type": "stream",
          "name": "stdout",
          "text": [
            "=\n"
          ]
        }
      ]
    },
    {
      "cell_type": "markdown",
      "source": [
        "**And**"
      ],
      "metadata": {
        "id": "SyqkJ6k73kht"
      }
    },
    {
      "cell_type": "markdown",
      "source": [
        "Example"
      ],
      "metadata": {
        "id": "HYsNYccs3na-"
      }
    },
    {
      "cell_type": "code",
      "source": [
        "a = 200\n",
        "b = 33\n",
        "c = 500\n",
        "if a > b and c > a: # and is a logical operator used to combine the conditional statements\n",
        "  print(\"Both conditions are true\")"
      ],
      "metadata": {
        "colab": {
          "base_uri": "https://localhost:8080/"
        },
        "id": "Q-ovEz8Q3mve",
        "outputId": "8e1c4ef4-7a3d-4d52-9990-55c9544e3c91"
      },
      "execution_count": 10,
      "outputs": [
        {
          "output_type": "stream",
          "name": "stdout",
          "text": [
            "Both conditions are true\n"
          ]
        }
      ]
    },
    {
      "cell_type": "markdown",
      "source": [
        "**Or**"
      ],
      "metadata": {
        "id": "zFLHKpb54Bn2"
      }
    },
    {
      "cell_type": "markdown",
      "source": [
        "Example"
      ],
      "metadata": {
        "id": "kp67vMhE4E8X"
      }
    },
    {
      "cell_type": "code",
      "source": [
        "a = 200\n",
        "b = 33\n",
        "c = 500\n",
        "if a > b or c > a: # or is a logical operator used to combine the conditional statements\n",
        "  print(\"Atleast one of the conditions is true\")"
      ],
      "metadata": {
        "colab": {
          "base_uri": "https://localhost:8080/"
        },
        "id": "J-BBVBg94GG-",
        "outputId": "14fc56e5-d436-4c85-fe93-2988a65bc4c8"
      },
      "execution_count": 11,
      "outputs": [
        {
          "output_type": "stream",
          "name": "stdout",
          "text": [
            "Atleast one of the conditions is true\n"
          ]
        }
      ]
    },
    {
      "cell_type": "markdown",
      "source": [
        "**Nested If**"
      ],
      "metadata": {
        "id": "2RcDBNqj4U6O"
      }
    },
    {
      "cell_type": "markdown",
      "source": [
        "Example"
      ],
      "metadata": {
        "id": "fpbff0eV4XhW"
      }
    },
    {
      "cell_type": "code",
      "source": [
        "# if statements inside if statements\n",
        "x = 41\n",
        "if (x > 10):\n",
        "  print(\"Above 10!\")\n",
        "  if (x > 20):\n",
        "    print(\"Above 20!\")\n",
        "  else:\n",
        "    print(\"but not above 20!\")\n"
      ],
      "metadata": {
        "colab": {
          "base_uri": "https://localhost:8080/"
        },
        "id": "BVIhueCJ4Y8N",
        "outputId": "24c3aad5-9a34-46d8-eaf3-c7427777d6ac"
      },
      "execution_count": 14,
      "outputs": [
        {
          "output_type": "stream",
          "name": "stdout",
          "text": [
            "Above 10!\n",
            "Above 20!\n"
          ]
        }
      ]
    },
    {
      "cell_type": "markdown",
      "source": [
        "**Pass**"
      ],
      "metadata": {
        "id": "0HNDDoG75HBf"
      }
    },
    {
      "cell_type": "markdown",
      "source": [
        "Example"
      ],
      "metadata": {
        "id": "AIh_NeQB5JF-"
      }
    },
    {
      "cell_type": "code",
      "source": [
        "a = 33\n",
        "b = 200\n",
        "if (b > a):\n",
        "  pass  # avoids an error"
      ],
      "metadata": {
        "id": "xCo33vPF5KWe"
      },
      "execution_count": 16,
      "outputs": []
    }
  ]
}