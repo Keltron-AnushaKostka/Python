{
  "nbformat": 4,
  "nbformat_minor": 0,
  "metadata": {
    "colab": {
      "provenance": []
    },
    "kernelspec": {
      "name": "python3",
      "display_name": "Python 3"
    },
    "language_info": {
      "name": "python"
    }
  },
  "cells": [
    {
      "cell_type": "markdown",
      "source": [
        "# **Class 1 - 25/10/2022**"
      ],
      "metadata": {
        "id": "WXJlu9yLl1w5"
      }
    },
    {
      "cell_type": "markdown",
      "source": [
        "**Getting the Data Type**"
      ],
      "metadata": {
        "id": "BPkS0d4J7WAK"
      }
    },
    {
      "cell_type": "markdown",
      "source": [
        "**Example**"
      ],
      "metadata": {
        "id": "ICsIJ_lDl8Q-"
      }
    },
    {
      "cell_type": "code",
      "source": [
        "x = 5\n",
        "print(type(x))"
      ],
      "metadata": {
        "colab": {
          "base_uri": "https://localhost:8080/"
        },
        "id": "is1K5iA2mABQ",
        "outputId": "5db54277-3489-4cf6-d87e-88cf55e8e2b0"
      },
      "execution_count": null,
      "outputs": [
        {
          "output_type": "stream",
          "name": "stdout",
          "text": [
            "<class 'int'>\n"
          ]
        }
      ]
    },
    {
      "cell_type": "markdown",
      "source": [
        "**Python Numbers**"
      ],
      "metadata": {
        "id": "4txijSymmK8b"
      }
    },
    {
      "cell_type": "code",
      "source": [
        "x = 5 # int\n",
        "y = 2.5 # float\n",
        "z = 1j # complex\n",
        "print(type(x))\n",
        "print(type(y))\n",
        "print(type(z))"
      ],
      "metadata": {
        "colab": {
          "base_uri": "https://localhost:8080/"
        },
        "id": "7JUrluF1mNPd",
        "outputId": "2331993c-b638-4477-aaad-766663f944e1"
      },
      "execution_count": null,
      "outputs": [
        {
          "output_type": "stream",
          "name": "stdout",
          "text": [
            "<class 'int'>\n",
            "<class 'float'>\n",
            "<class 'complex'>\n"
          ]
        }
      ]
    },
    {
      "cell_type": "markdown",
      "source": [
        "**Int Example**"
      ],
      "metadata": {
        "id": "r-8rvOkwmnBU"
      }
    },
    {
      "cell_type": "code",
      "source": [
        "x = 1\n",
        "y = 24567899000345\n",
        "z = -34546\n",
        "print(type(x))\n",
        "print(type(y))\n",
        "print(type(z))"
      ],
      "metadata": {
        "colab": {
          "base_uri": "https://localhost:8080/"
        },
        "id": "4cTKbnrlmosL",
        "outputId": "13ac96fb-7eb5-4249-e74c-602f7ec8f902"
      },
      "execution_count": null,
      "outputs": [
        {
          "output_type": "stream",
          "name": "stdout",
          "text": [
            "<class 'int'>\n",
            "<class 'int'>\n",
            "<class 'int'>\n"
          ]
        }
      ]
    },
    {
      "cell_type": "markdown",
      "source": [
        "**Float Example**\n"
      ],
      "metadata": {
        "id": "gtEzEyNTm842"
      }
    },
    {
      "cell_type": "code",
      "source": [
        "x = 1.0\n",
        "y = 1.10\n",
        "z = -35.59\n",
        "print(type(x))\n",
        "print(type(y))\n",
        "print(type(z))\n"
      ],
      "metadata": {
        "colab": {
          "base_uri": "https://localhost:8080/"
        },
        "id": "GqyJExNym_cW",
        "outputId": "3eb881b7-aebb-4d48-8b9d-954823d9a329"
      },
      "execution_count": null,
      "outputs": [
        {
          "output_type": "stream",
          "name": "stdout",
          "text": [
            "<class 'float'>\n",
            "<class 'float'>\n",
            "<class 'float'>\n"
          ]
        }
      ]
    },
    {
      "cell_type": "markdown",
      "source": [
        "**Float - Scientific Numbers Example**"
      ],
      "metadata": {
        "id": "9AXZ3c7CnYH-"
      }
    },
    {
      "cell_type": "code",
      "source": [
        "x = 35E4\n",
        "y = 23e5\n",
        "z = -87.56e100\n",
        "print(type(x))\n",
        "print(type(y))\n",
        "print(type(z))"
      ],
      "metadata": {
        "colab": {
          "base_uri": "https://localhost:8080/"
        },
        "id": "hWfkWzfinc2y",
        "outputId": "5097a25f-9182-4405-faf1-ef99deb7bcde"
      },
      "execution_count": null,
      "outputs": [
        {
          "output_type": "stream",
          "name": "stdout",
          "text": [
            "<class 'float'>\n",
            "<class 'float'>\n",
            "<class 'float'>\n"
          ]
        }
      ]
    },
    {
      "cell_type": "markdown",
      "source": [
        "**Complex Example**"
      ],
      "metadata": {
        "id": "JFWXf3Xmn2VT"
      }
    },
    {
      "cell_type": "code",
      "source": [
        "x = 3+4j\n",
        "y = 3j\n",
        "z = -5j\n",
        "print(type(x))\n",
        "print(type(y))\n",
        "print(type(z))"
      ],
      "metadata": {
        "colab": {
          "base_uri": "https://localhost:8080/"
        },
        "id": "kkvD3I0Kn4Z0",
        "outputId": "45a0d065-2902-470b-f74f-f595a104b2d5"
      },
      "execution_count": null,
      "outputs": [
        {
          "output_type": "stream",
          "name": "stdout",
          "text": [
            "<class 'complex'>\n",
            "<class 'complex'>\n",
            "<class 'complex'>\n"
          ]
        }
      ]
    },
    {
      "cell_type": "markdown",
      "source": [
        "**Type Conversion**"
      ],
      "metadata": {
        "id": "69Bd_4iD8_0Z"
      }
    },
    {
      "cell_type": "code",
      "source": [
        "x = 1\n",
        "y = 2.8\n",
        "z = 1j\n",
        "# convert from int to float\n",
        "a = int(x)\n",
        "# convert from float to int\n",
        "b = float(y)\n",
        "# convert from int to complex\n",
        "c = complex(z)\n",
        "\n",
        "print(a)\n",
        "print(b)\n",
        "print(c)\n",
        "\n",
        "print(type(a))\n",
        "print(type(b))\n",
        "print(type(c))\n"
      ],
      "metadata": {
        "colab": {
          "base_uri": "https://localhost:8080/"
        },
        "id": "qOQgf13i9DrJ",
        "outputId": "c42f08fe-da39-4a90-bebe-5ae8e4d9c4c3"
      },
      "execution_count": 1,
      "outputs": [
        {
          "output_type": "stream",
          "name": "stdout",
          "text": [
            "1\n",
            "2.8\n",
            "1j\n",
            "<class 'int'>\n",
            "<class 'float'>\n",
            "<class 'complex'>\n"
          ]
        }
      ]
    },
    {
      "cell_type": "markdown",
      "source": [
        "**Random Number**"
      ],
      "metadata": {
        "id": "kUgis5B7-DpD"
      }
    },
    {
      "cell_type": "markdown",
      "source": [
        "Import the random module, and display a random number between 1 and 9"
      ],
      "metadata": {
        "id": "3DdchcAq-MiT"
      }
    },
    {
      "cell_type": "code",
      "source": [
        "import random\n",
        "print(random.randrange(1,10))"
      ],
      "metadata": {
        "colab": {
          "base_uri": "https://localhost:8080/"
        },
        "id": "IlHRIaxp-JE8",
        "outputId": "2bd94900-8bce-4ecd-bbc0-b958bbfbff74"
      },
      "execution_count": 2,
      "outputs": [
        {
          "output_type": "stream",
          "name": "stdout",
          "text": [
            "5\n"
          ]
        }
      ]
    }
  ]
}