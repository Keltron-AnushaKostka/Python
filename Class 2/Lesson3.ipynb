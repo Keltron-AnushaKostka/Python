{
  "nbformat": 4,
  "nbformat_minor": 0,
  "metadata": {
    "colab": {
      "provenance": []
    },
    "kernelspec": {
      "name": "python3",
      "display_name": "Python 3"
    },
    "language_info": {
      "name": "python"
    }
  },
  "cells": [
    {
      "cell_type": "markdown",
      "source": [
        "# **Class 2 - 27/10/2022**"
      ],
      "metadata": {
        "id": "Q-41FyoTyG8s"
      }
    },
    {
      "cell_type": "markdown",
      "source": [
        "**Python Casting**"
      ],
      "metadata": {
        "id": "k_RRLMwWKAIJ"
      }
    },
    {
      "cell_type": "markdown",
      "source": [
        "Example 1"
      ],
      "metadata": {
        "id": "XnrvQAi5yRAr"
      }
    },
    {
      "cell_type": "code",
      "source": [
        "x = int(1)  # x = 1\n",
        "y = int(2.8) # y = 2\n",
        "z = int(\"3\") # z = 3\n",
        "\n",
        "print(x)\n",
        "print(y)\n",
        "print(z)"
      ],
      "metadata": {
        "colab": {
          "base_uri": "https://localhost:8080/"
        },
        "id": "SaSTQ-xayQMq",
        "outputId": "789c787f-6952-4c39-a65e-166d6b115877"
      },
      "execution_count": null,
      "outputs": [
        {
          "output_type": "stream",
          "name": "stdout",
          "text": [
            "1\n",
            "2\n",
            "3\n"
          ]
        }
      ]
    },
    {
      "cell_type": "markdown",
      "source": [
        "Example 2"
      ],
      "metadata": {
        "id": "1pAkDCANzEiF"
      }
    },
    {
      "cell_type": "code",
      "source": [
        "x = float(1) # x = 1.0\n",
        "y = float(2.8) # y = 2.8\n",
        "z = float(\"3\") # z = 3.0\n",
        "w = float(\"4.2\") # w = 4.2\n",
        "\n",
        "print(x)\n",
        "print(y)\n",
        "print(z)\n",
        "print(w)"
      ],
      "metadata": {
        "colab": {
          "base_uri": "https://localhost:8080/"
        },
        "id": "3jorbbWwzHEy",
        "outputId": "7faa86a7-be64-4879-9e99-0897f2f819bd"
      },
      "execution_count": null,
      "outputs": [
        {
          "output_type": "stream",
          "name": "stdout",
          "text": [
            "1.0\n",
            "2.8\n",
            "3.0\n",
            "4.2\n"
          ]
        }
      ]
    },
    {
      "cell_type": "markdown",
      "source": [
        "Example 3"
      ],
      "metadata": {
        "id": "qO5Hv9Yczpxu"
      }
    },
    {
      "cell_type": "code",
      "source": [
        "x  = str(\"s1\") # x =s1\n",
        "y = str(\"3\") # y = 3\n",
        "z = str(\"2.0\") # z = 2.0\n",
        "\n",
        "print(x)\n",
        "print(y)\n",
        "print(z)"
      ],
      "metadata": {
        "colab": {
          "base_uri": "https://localhost:8080/"
        },
        "id": "GE36eZUtzrd6",
        "outputId": "06f4c68b-6b8e-426e-97a3-31b8552b5253"
      },
      "execution_count": null,
      "outputs": [
        {
          "output_type": "stream",
          "name": "stdout",
          "text": [
            "s1\n",
            "3\n",
            "2.0\n"
          ]
        }
      ]
    },
    {
      "cell_type": "markdown",
      "source": [
        "**Python Strings**"
      ],
      "metadata": {
        "id": "MkQhv1zA0RTq"
      }
    },
    {
      "cell_type": "markdown",
      "source": [
        "Example"
      ],
      "metadata": {
        "id": "rTsXxcGvoDIl"
      }
    },
    {
      "cell_type": "code",
      "source": [
        "print(\"Hello\")\n",
        "print('Hello')"
      ],
      "metadata": {
        "colab": {
          "base_uri": "https://localhost:8080/"
        },
        "id": "o75HdjcP0TOq",
        "outputId": "ee4f8bb9-10e2-4a09-c58b-cedfa00bc835"
      },
      "execution_count": null,
      "outputs": [
        {
          "output_type": "stream",
          "name": "stdout",
          "text": [
            "Hello\n",
            "Hello\n"
          ]
        }
      ]
    },
    {
      "cell_type": "markdown",
      "source": [
        "**Assign string to a variable**"
      ],
      "metadata": {
        "id": "drA6pcJM0acp"
      }
    },
    {
      "cell_type": "markdown",
      "source": [
        "Example"
      ],
      "metadata": {
        "id": "2wZFVG4boHBU"
      }
    },
    {
      "cell_type": "code",
      "source": [
        "a = \"Hello\"\n",
        "print(a)"
      ],
      "metadata": {
        "colab": {
          "base_uri": "https://localhost:8080/"
        },
        "id": "11gHzyln0esC",
        "outputId": "282a8ad6-c606-4bcf-e397-3edb27180848"
      },
      "execution_count": null,
      "outputs": [
        {
          "output_type": "stream",
          "name": "stdout",
          "text": [
            "Hello\n"
          ]
        }
      ]
    },
    {
      "cell_type": "markdown",
      "source": [
        "**Multiline Strings**"
      ],
      "metadata": {
        "id": "bPxet2A40m9U"
      }
    },
    {
      "cell_type": "markdown",
      "source": [
        "Example 1"
      ],
      "metadata": {
        "id": "aC86Q8sd0qK6"
      }
    },
    {
      "cell_type": "code",
      "source": [
        "a = \"\"\" My name is Anusha Kostka. I am doing\n",
        "a certificate course in Data Science at \n",
        "Keltron for 2 months. \"\"\"\n",
        "print(a)"
      ],
      "metadata": {
        "colab": {
          "base_uri": "https://localhost:8080/"
        },
        "id": "XyMAv2kz0tuy",
        "outputId": "3e62448a-23d3-47a1-9b57-21789c1f0258"
      },
      "execution_count": null,
      "outputs": [
        {
          "output_type": "stream",
          "name": "stdout",
          "text": [
            " My name is Anusha Kostka. I am doing\n",
            "a certificate course in Data Science at \n",
            "Keltron for 2 months. \n"
          ]
        }
      ]
    },
    {
      "cell_type": "markdown",
      "source": [
        "Example 2"
      ],
      "metadata": {
        "id": "yg6yo9Qf1C4E"
      }
    },
    {
      "cell_type": "code",
      "source": [
        "a = '''My name is Anusha Kostka. I am doing\n",
        "a certificate course in Data Science at \n",
        "Keltron for 2 months.'''\n",
        "print(a)"
      ],
      "metadata": {
        "colab": {
          "base_uri": "https://localhost:8080/"
        },
        "id": "C_cFja-e1EYK",
        "outputId": "d8d78aef-62cc-4b0a-d2f7-9597dade2aa6"
      },
      "execution_count": null,
      "outputs": [
        {
          "output_type": "stream",
          "name": "stdout",
          "text": [
            "My name is Anusha Kostka. I am doing\n",
            "a certificate course in Data Science at \n",
            "Keltron for 2 months.\n"
          ]
        }
      ]
    },
    {
      "cell_type": "markdown",
      "source": [
        "**Strings are Arrays**"
      ],
      "metadata": {
        "id": "MC9vBWaB1aj8"
      }
    },
    {
      "cell_type": "markdown",
      "source": [
        "Example 1"
      ],
      "metadata": {
        "id": "iuNmfBtH1dlc"
      }
    },
    {
      "cell_type": "code",
      "source": [
        "a = \"Hello, World!\"\n",
        "print(a[1])"
      ],
      "metadata": {
        "colab": {
          "base_uri": "https://localhost:8080/"
        },
        "id": "4UGvUeEM1e4p",
        "outputId": "01146ac2-3964-40fc-9875-3f0018764da2"
      },
      "execution_count": null,
      "outputs": [
        {
          "output_type": "stream",
          "name": "stdout",
          "text": [
            "e\n"
          ]
        }
      ]
    },
    {
      "cell_type": "markdown",
      "source": [
        "**Slicing**"
      ],
      "metadata": {
        "id": "ZYYdzBWn2eV8"
      }
    },
    {
      "cell_type": "markdown",
      "source": [
        "Example 2"
      ],
      "metadata": {
        "id": "EC2oORFZ15Pb"
      }
    },
    {
      "cell_type": "code",
      "source": [
        "a = \"Hello, World!\"\n",
        "print(a[2:5])"
      ],
      "metadata": {
        "colab": {
          "base_uri": "https://localhost:8080/"
        },
        "id": "hZzAyjdB1803",
        "outputId": "7246411d-fb2e-4651-d706-e650cfa2b989"
      },
      "execution_count": null,
      "outputs": [
        {
          "output_type": "stream",
          "name": "stdout",
          "text": [
            "llo\n"
          ]
        }
      ]
    },
    {
      "cell_type": "markdown",
      "source": [
        "**Negative Indexing**"
      ],
      "metadata": {
        "id": "b4KwkkvJoYGF"
      }
    },
    {
      "cell_type": "markdown",
      "source": [
        "Example 3 "
      ],
      "metadata": {
        "id": "kjiNWFbH2GTh"
      }
    },
    {
      "cell_type": "code",
      "source": [
        "a = \"Hello, World!\"\n",
        "print(a[-5:-2])"
      ],
      "metadata": {
        "colab": {
          "base_uri": "https://localhost:8080/"
        },
        "id": "wEuvC8fV2IUD",
        "outputId": "f4af9252-6cf9-4e74-dc15-e0b89f21d89b"
      },
      "execution_count": null,
      "outputs": [
        {
          "output_type": "stream",
          "name": "stdout",
          "text": [
            "orl\n"
          ]
        }
      ]
    },
    {
      "cell_type": "markdown",
      "source": [
        "**String Length**"
      ],
      "metadata": {
        "id": "O0gAb-Yt2skr"
      }
    },
    {
      "cell_type": "code",
      "source": [
        "a = \"Hello, World!\"\n",
        "print(len(a))"
      ],
      "metadata": {
        "colab": {
          "base_uri": "https://localhost:8080/"
        },
        "id": "Sd-ZCC7d2urD",
        "outputId": "707ecc68-441d-406c-e48f-2d419707b6b2"
      },
      "execution_count": null,
      "outputs": [
        {
          "output_type": "stream",
          "name": "stdout",
          "text": [
            "13\n"
          ]
        }
      ]
    },
    {
      "cell_type": "markdown",
      "source": [
        "**String Methods**"
      ],
      "metadata": {
        "id": "OGPoHZbF3JnS"
      }
    },
    {
      "cell_type": "markdown",
      "source": [
        "Example 1 - Strip"
      ],
      "metadata": {
        "id": "kgLS3Yag3N_N"
      }
    },
    {
      "cell_type": "code",
      "source": [
        "a = \" Hello, World! \"\n",
        "print(a.strip()) # removes the whitespaces from beginning or the end"
      ],
      "metadata": {
        "colab": {
          "base_uri": "https://localhost:8080/"
        },
        "id": "5iNK5eq23Qp2",
        "outputId": "5ce0b9e9-0018-401f-b817-aec290058c15"
      },
      "execution_count": null,
      "outputs": [
        {
          "output_type": "stream",
          "name": "stdout",
          "text": [
            "Hello, World!\n"
          ]
        }
      ]
    },
    {
      "cell_type": "markdown",
      "source": [
        "Example 2 - Lowercase"
      ],
      "metadata": {
        "id": "QvYH_s9K3h-x"
      }
    },
    {
      "cell_type": "code",
      "source": [
        "a = \"Hello, World!\"\n",
        "print(a.lower()) # returns string in lowercase"
      ],
      "metadata": {
        "colab": {
          "base_uri": "https://localhost:8080/"
        },
        "id": "nkf3C_Ka3kwc",
        "outputId": "133173e8-7bdd-49ce-ec4c-a32f1b06355e"
      },
      "execution_count": null,
      "outputs": [
        {
          "output_type": "stream",
          "name": "stdout",
          "text": [
            "hello, world!\n"
          ]
        }
      ]
    },
    {
      "cell_type": "markdown",
      "source": [
        "Example 3 - Uppercase"
      ],
      "metadata": {
        "id": "YZbUNBIc3sTN"
      }
    },
    {
      "cell_type": "code",
      "source": [
        "a = \"Hello, World!\"\n",
        "print(a.upper()) # returns string in uppercase"
      ],
      "metadata": {
        "colab": {
          "base_uri": "https://localhost:8080/"
        },
        "id": "HrQMnA023vA7",
        "outputId": "b5e9a6fb-b1ed-41fd-982b-27b70141a899"
      },
      "execution_count": null,
      "outputs": [
        {
          "output_type": "stream",
          "name": "stdout",
          "text": [
            "HELLO, WORLD!\n"
          ]
        }
      ]
    },
    {
      "cell_type": "markdown",
      "source": [
        "Example 4 - Replace"
      ],
      "metadata": {
        "id": "TQO5YSYS32ij"
      }
    },
    {
      "cell_type": "code",
      "source": [
        "a = \"Hello, World!\"\n",
        "print(a.replace(\"H\", \"J\")) # replaces a string with another string"
      ],
      "metadata": {
        "colab": {
          "base_uri": "https://localhost:8080/"
        },
        "id": "GVptikpG38g5",
        "outputId": "05ccea0b-fc7c-45eb-d2d4-db95e0827860"
      },
      "execution_count": null,
      "outputs": [
        {
          "output_type": "stream",
          "name": "stdout",
          "text": [
            "Jello, World!\n"
          ]
        }
      ]
    },
    {
      "cell_type": "markdown",
      "source": [
        "Example 5 - Split"
      ],
      "metadata": {
        "id": "mE2nNBlc4HkK"
      }
    },
    {
      "cell_type": "code",
      "source": [
        "a = \"Hello, World!\"\n",
        "print(a.split(\",\")) # returns ['Hello', 'World']"
      ],
      "metadata": {
        "colab": {
          "base_uri": "https://localhost:8080/"
        },
        "id": "0PMlwZhw4Naq",
        "outputId": "050d3960-5221-455d-c7f7-c54a5cdefb78"
      },
      "execution_count": null,
      "outputs": [
        {
          "output_type": "stream",
          "name": "stdout",
          "text": [
            "['Hello', ' World!']\n"
          ]
        }
      ]
    },
    {
      "cell_type": "markdown",
      "source": [
        "**Check String**"
      ],
      "metadata": {
        "id": "eR1xJd3b4_I_"
      }
    },
    {
      "cell_type": "markdown",
      "source": [
        "Example 1"
      ],
      "metadata": {
        "id": "xsi8kT1E5bFS"
      }
    },
    {
      "cell_type": "code",
      "source": [
        "txt = \"The rain in Spain stays mainly in the plain\"\n",
        "x = \"ain\" in txt # ain is present in the text\n",
        "print(x) # returns true"
      ],
      "metadata": {
        "colab": {
          "base_uri": "https://localhost:8080/"
        },
        "id": "4oJtNYd25FAP",
        "outputId": "968b9681-1a49-4025-b5b6-09a54ba17eb3"
      },
      "execution_count": null,
      "outputs": [
        {
          "output_type": "stream",
          "name": "stdout",
          "text": [
            "True\n"
          ]
        }
      ]
    },
    {
      "cell_type": "markdown",
      "source": [
        "Example 2"
      ],
      "metadata": {
        "id": "V2eBX7uW5h31"
      }
    },
    {
      "cell_type": "code",
      "source": [
        "txt = \"The rain in Spain stays mainly in the plain\"\n",
        "x = \"ain\" not in txt # ain is not present in the text\n",
        "print(x) # returns false"
      ],
      "metadata": {
        "colab": {
          "base_uri": "https://localhost:8080/"
        },
        "id": "6zaRHkFB5ja6",
        "outputId": "2e6555ea-e186-44df-d7fd-a2593bd5a8ba"
      },
      "execution_count": null,
      "outputs": [
        {
          "output_type": "stream",
          "name": "stdout",
          "text": [
            "False\n"
          ]
        }
      ]
    },
    {
      "cell_type": "markdown",
      "source": [
        "**String Concatenation**"
      ],
      "metadata": {
        "id": "u-geqS9P587m"
      }
    },
    {
      "cell_type": "markdown",
      "source": [
        "Example 1"
      ],
      "metadata": {
        "id": "lsWEgrQz5_j0"
      }
    },
    {
      "cell_type": "code",
      "source": [
        "a = \"Hello\"\n",
        "b = \"World\"\n",
        "c = a + b # Merging variable a and variable b to get variable c using + operator\n",
        "print(c) "
      ],
      "metadata": {
        "colab": {
          "base_uri": "https://localhost:8080/"
        },
        "id": "DV67Wfn26B_4",
        "outputId": "e66eb7b1-d1fd-4daf-dd7b-b1b95f6b275f"
      },
      "execution_count": null,
      "outputs": [
        {
          "output_type": "stream",
          "name": "stdout",
          "text": [
            "HelloWorld\n"
          ]
        }
      ]
    },
    {
      "cell_type": "markdown",
      "source": [
        "Example 2"
      ],
      "metadata": {
        "id": "yD_D_H5_6dWI"
      }
    },
    {
      "cell_type": "code",
      "source": [
        "a = \"Hello\"\n",
        "b = \"World!\"\n",
        "c = a + \" \" + b # Adding spaces between variable a and variable b\n",
        "print(c)"
      ],
      "metadata": {
        "colab": {
          "base_uri": "https://localhost:8080/"
        },
        "id": "DwgPKOFC6e8b",
        "outputId": "36a8a84c-482a-497a-c1fd-c15ef1e9c395"
      },
      "execution_count": null,
      "outputs": [
        {
          "output_type": "stream",
          "name": "stdout",
          "text": [
            "Hello World!\n"
          ]
        }
      ]
    },
    {
      "cell_type": "markdown",
      "source": [
        "**String Format**"
      ],
      "metadata": {
        "id": "ETjKSIC367a1"
      }
    },
    {
      "cell_type": "markdown",
      "source": [
        "Example 1"
      ],
      "metadata": {
        "id": "djkTo9_i6_ej"
      }
    },
    {
      "cell_type": "code",
      "source": [
        "age = 36\n",
        "txt = \"My name is John and My age is \" + age\n",
        "print(txt) # displays error"
      ],
      "metadata": {
        "colab": {
          "base_uri": "https://localhost:8080/",
          "height": 200
        },
        "id": "ou1tozSM7CQx",
        "outputId": "eb6d4f05-89f8-491c-fe34-4c4ec8fc5cfc"
      },
      "execution_count": null,
      "outputs": [
        {
          "output_type": "error",
          "ename": "TypeError",
          "evalue": "ignored",
          "traceback": [
            "\u001b[0;31m---------------------------------------------------------------------------\u001b[0m",
            "\u001b[0;31mTypeError\u001b[0m                                 Traceback (most recent call last)",
            "\u001b[0;32m<ipython-input-25-0f22ef866f2c>\u001b[0m in \u001b[0;36m<module>\u001b[0;34m\u001b[0m\n\u001b[1;32m      1\u001b[0m \u001b[0mage\u001b[0m \u001b[0;34m=\u001b[0m \u001b[0;36m36\u001b[0m\u001b[0;34m\u001b[0m\u001b[0;34m\u001b[0m\u001b[0m\n\u001b[0;32m----> 2\u001b[0;31m \u001b[0mtxt\u001b[0m \u001b[0;34m=\u001b[0m \u001b[0;34m\"My name is John and My age is \"\u001b[0m \u001b[0;34m+\u001b[0m \u001b[0mage\u001b[0m\u001b[0;34m\u001b[0m\u001b[0;34m\u001b[0m\u001b[0m\n\u001b[0m\u001b[1;32m      3\u001b[0m \u001b[0mprint\u001b[0m\u001b[0;34m(\u001b[0m\u001b[0mtxt\u001b[0m\u001b[0;34m)\u001b[0m \u001b[0;31m# displays error\u001b[0m\u001b[0;34m\u001b[0m\u001b[0;34m\u001b[0m\u001b[0m\n",
            "\u001b[0;31mTypeError\u001b[0m: can only concatenate str (not \"int\") to str"
          ]
        }
      ]
    },
    {
      "cell_type": "markdown",
      "source": [
        "Example 2"
      ],
      "metadata": {
        "id": "6B07QQKz7WSj"
      }
    },
    {
      "cell_type": "code",
      "source": [
        "age = 36\n",
        "txt = \"My name is John and My age is {}\"\n",
        "print(txt.format(age))"
      ],
      "metadata": {
        "id": "2OIsiHCk7X9i",
        "colab": {
          "base_uri": "https://localhost:8080/"
        },
        "outputId": "da110a04-32c3-4465-b2a5-4c906804dd5e"
      },
      "execution_count": 1,
      "outputs": [
        {
          "output_type": "stream",
          "name": "stdout",
          "text": [
            "My name is John and My age is 36\n"
          ]
        }
      ]
    },
    {
      "cell_type": "markdown",
      "source": [
        "Example 3"
      ],
      "metadata": {
        "id": "Fn3rPpXx7wqS"
      }
    },
    {
      "cell_type": "code",
      "source": [
        "quantity = 3\n",
        "itemno = 567\n",
        "price = 49.95\n",
        "order = \"I want {} pieces of item {} for {} dollars\"\n",
        "print(order.format(quantity,itemno,price))"
      ],
      "metadata": {
        "id": "6Z7lmdGL74vT",
        "colab": {
          "base_uri": "https://localhost:8080/"
        },
        "outputId": "5e046e58-0792-488f-f41c-17dd563692d5"
      },
      "execution_count": 2,
      "outputs": [
        {
          "output_type": "stream",
          "name": "stdout",
          "text": [
            "I want 3 pieces of item 567 for 49.95 dollars\n"
          ]
        }
      ]
    },
    {
      "cell_type": "markdown",
      "source": [
        "Example 4"
      ],
      "metadata": {
        "id": "6Dzjs59S8jJr"
      }
    },
    {
      "cell_type": "code",
      "source": [
        "quantity = 3\n",
        "itemno = 567\n",
        "price = 49.95\n",
        "order = \"I want to pay {2} dollars for {0} pieces of items {1}  \" # use index numbers\n",
        "print(order.format(quantity,itemno,price))"
      ],
      "metadata": {
        "id": "P-NpMEgT8qJk",
        "colab": {
          "base_uri": "https://localhost:8080/"
        },
        "outputId": "da67cfe6-2d07-4c6b-cd23-a9919ecefcf1"
      },
      "execution_count": 3,
      "outputs": [
        {
          "output_type": "stream",
          "name": "stdout",
          "text": [
            "I want to pay 49.95 dollars for 3 pieces of items 567  \n"
          ]
        }
      ]
    },
    {
      "cell_type": "markdown",
      "source": [
        "**Escape Character**"
      ],
      "metadata": {
        "id": "5dAHPtvf9h2H"
      }
    },
    {
      "cell_type": "markdown",
      "source": [
        "Example 1"
      ],
      "metadata": {
        "id": "nUL0Hm9E94Uw"
      }
    },
    {
      "cell_type": "code",
      "source": [
        "txt = \"We are the so-called\" Vikings \"from the North\" # displays error\n",
        "print(txt)"
      ],
      "metadata": {
        "colab": {
          "base_uri": "https://localhost:8080/",
          "height": 130
        },
        "id": "e61HeD329lyL",
        "outputId": "0a629037-d148-448b-e673-9febef0e0a22"
      },
      "execution_count": 4,
      "outputs": [
        {
          "output_type": "error",
          "ename": "SyntaxError",
          "evalue": "ignored",
          "traceback": [
            "\u001b[0;36m  File \u001b[0;32m\"<ipython-input-4-959dc7cf4748>\"\u001b[0;36m, line \u001b[0;32m1\u001b[0m\n\u001b[0;31m    txt = \"We are the so-called\" Vikings \"from the North\" # displays error\u001b[0m\n\u001b[0m                                       ^\u001b[0m\n\u001b[0;31mSyntaxError\u001b[0m\u001b[0;31m:\u001b[0m invalid syntax\n"
          ]
        }
      ]
    },
    {
      "cell_type": "markdown",
      "source": [
        "Example 2"
      ],
      "metadata": {
        "id": "lZ0gvLZg96GL"
      }
    },
    {
      "cell_type": "code",
      "source": [
        "txt = \"We are the so-called \\\" Vikings \\\" from the North\"\n",
        "print(txt)"
      ],
      "metadata": {
        "id": "SEXrbL-d97lU",
        "colab": {
          "base_uri": "https://localhost:8080/"
        },
        "outputId": "db3a7200-58f5-44f5-dfbb-cd16d947ff11"
      },
      "execution_count": 5,
      "outputs": [
        {
          "output_type": "stream",
          "name": "stdout",
          "text": [
            "We are the so-called \" Vikings \" from the North\n"
          ]
        }
      ]
    },
    {
      "cell_type": "markdown",
      "source": [
        "**Python Booleans**"
      ],
      "metadata": {
        "id": "NYme5GZm-nXD"
      }
    },
    {
      "cell_type": "markdown",
      "source": [
        "Example 1"
      ],
      "metadata": {
        "id": "BywZba8u-u3q"
      }
    },
    {
      "cell_type": "code",
      "source": [
        "print(10>9)"
      ],
      "metadata": {
        "id": "-pfxfbOa-wM7",
        "colab": {
          "base_uri": "https://localhost:8080/"
        },
        "outputId": "8aa92fb7-0060-4ea8-c362-cd0dd7e17369"
      },
      "execution_count": 6,
      "outputs": [
        {
          "output_type": "stream",
          "name": "stdout",
          "text": [
            "True\n"
          ]
        }
      ]
    },
    {
      "cell_type": "code",
      "source": [
        "print(10==9)"
      ],
      "metadata": {
        "colab": {
          "base_uri": "https://localhost:8080/"
        },
        "id": "n8QXpKqp-qqz",
        "outputId": "32f826fd-ebe0-4500-c434-c6e94fd99c1f"
      },
      "execution_count": null,
      "outputs": [
        {
          "output_type": "stream",
          "name": "stdout",
          "text": [
            "False\n"
          ]
        }
      ]
    },
    {
      "cell_type": "code",
      "source": [
        "print(10<9)"
      ],
      "metadata": {
        "colab": {
          "base_uri": "https://localhost:8080/"
        },
        "id": "tD087Oti-4RE",
        "outputId": "d0893f6f-80e4-4244-f722-b5dc7d16478d"
      },
      "execution_count": null,
      "outputs": [
        {
          "output_type": "stream",
          "name": "stdout",
          "text": [
            "False\n"
          ]
        }
      ]
    },
    {
      "cell_type": "markdown",
      "source": [
        "Example 2"
      ],
      "metadata": {
        "id": "1HzDbkM3_CxK"
      }
    },
    {
      "cell_type": "code",
      "source": [
        "#Print a message whether a condition is True or False\n",
        "a=200\n",
        "b=33\n",
        "if b>a:\n",
        "  print(\"b is greater than a\")\n",
        "else:\n",
        "  print(\"a is greater than b\")\n"
      ],
      "metadata": {
        "colab": {
          "base_uri": "https://localhost:8080/"
        },
        "id": "SV4KaPnV_FdS",
        "outputId": "aa5faba8-6149-44ff-87da-dbe93aea9564"
      },
      "execution_count": null,
      "outputs": [
        {
          "output_type": "stream",
          "name": "stdout",
          "text": [
            "a is greater than b\n"
          ]
        }
      ]
    }
  ]
}