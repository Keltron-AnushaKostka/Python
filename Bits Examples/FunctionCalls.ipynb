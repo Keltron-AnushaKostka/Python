{
  "nbformat": 4,
  "nbformat_minor": 0,
  "metadata": {
    "colab": {
      "provenance": []
    },
    "kernelspec": {
      "name": "python3",
      "display_name": "Python 3"
    },
    "language_info": {
      "name": "python"
    }
  },
  "cells": [
    {
      "cell_type": "markdown",
      "source": [
        "# **Function Calls**"
      ],
      "metadata": {
        "id": "QsCj3C_3PdQD"
      }
    },
    {
      "cell_type": "markdown",
      "source": [
        "**Example of Average Computation Function**"
      ],
      "metadata": {
        "id": "L_i9ax54Pp1R"
      }
    },
    {
      "cell_type": "code",
      "source": [
        "number_list = [1,2,3,4,5,6]\n",
        "\n",
        "total = 0\n",
        "average = 0\n",
        "count = len(number_list)\n",
        "print(\"The number of elements in the list are \", count)\n",
        "\n",
        "# compute the total first\n",
        "for number in number_list:\n",
        "  total = total + number\n",
        "print(\"The first total is \", total)\n",
        "\n",
        "average = total / count\n",
        "print(\"The first average is \", average)\n"
      ],
      "metadata": {
        "colab": {
          "base_uri": "https://localhost:8080/"
        },
        "id": "55fB03tzPv5O",
        "outputId": "1e1c36b7-5051-4b18-cfac-d506ad275905"
      },
      "execution_count": 19,
      "outputs": [
        {
          "output_type": "stream",
          "name": "stdout",
          "text": [
            "The number of elements in the list are  6\n",
            "The first total is  21\n",
            "The first average is  3.5\n"
          ]
        }
      ]
    },
    {
      "cell_type": "markdown",
      "source": [
        "**Average of different set of numbers**"
      ],
      "metadata": {
        "id": "qfM7UMVsR_wE"
      }
    },
    {
      "cell_type": "code",
      "source": [
        "number_list = [11, 22, 41, 31, 51, 61]\n",
        "\n",
        "total = 0\n",
        "average = 0\n",
        "count = len(number_list)\n",
        "print(\"The number of elements in the list are \", count)\n",
        "\n",
        "# compute the total first\n",
        "for number in number_list:\n",
        "  total = total + number\n",
        "print(\"The second total is \", total)\n",
        "\n",
        "average = total / count\n",
        "print(\"The second average is \", average)\n",
        "\n"
      ],
      "metadata": {
        "colab": {
          "base_uri": "https://localhost:8080/"
        },
        "id": "OgyRrCMuSE73",
        "outputId": "2db8f850-473e-42ca-a3e9-c20262ca855b"
      },
      "execution_count": 18,
      "outputs": [
        {
          "output_type": "stream",
          "name": "stdout",
          "text": [
            "The number of elements in the list are  6\n",
            "The second total is  217\n",
            "The second average is  36.166666666666664\n"
          ]
        }
      ]
    },
    {
      "cell_type": "markdown",
      "source": [
        "**Function Definition**"
      ],
      "metadata": {
        "id": "RoU6WA1_UxKC"
      }
    },
    {
      "cell_type": "code",
      "source": [
        "def compute_average(number_list): # function definition, starts with keyword def followed by the name of the function\n",
        "\n",
        "  total = 0\n",
        "  average = 0\n",
        "  count = len(number_list)\n",
        "\n",
        "  #compute the first total\n",
        "  for number in number_list:\n",
        "   total = total + number\n",
        "  print(\"The total is \", total)\n",
        "\n",
        "  average = total / count\n",
        "  \n",
        "  return average\n",
        "\n",
        "number_list = [1,2,3,4,5,6]\n",
        "average = compute_average(number_list)\n",
        "print(\"The average is \", average)\n"
      ],
      "metadata": {
        "colab": {
          "base_uri": "https://localhost:8080/"
        },
        "id": "mCD7NEuJU0yw",
        "outputId": "fc10347b-5ac1-4545-f76f-37e66dd37be1"
      },
      "execution_count": 39,
      "outputs": [
        {
          "output_type": "stream",
          "name": "stdout",
          "text": [
            "The total is  21\n",
            "The average is  3.5\n"
          ]
        }
      ]
    },
    {
      "cell_type": "code",
      "source": [
        "def print_welcome_message():\n",
        "  print('*' * 23)\n",
        "  print(\"Welcome to BITS, Pilani\")\n",
        "  print('*' * 23)\n",
        "  print()\n",
        "  print()\n",
        "  print(\"All Rights Reserved\")\n",
        "\n",
        "print_welcome_message()"
      ],
      "metadata": {
        "colab": {
          "base_uri": "https://localhost:8080/"
        },
        "id": "gotBDhT1ZXRM",
        "outputId": "5232f23a-e1fc-4b17-bdbb-9e4f85bc3bd2"
      },
      "execution_count": 77,
      "outputs": [
        {
          "output_type": "stream",
          "name": "stdout",
          "text": [
            "***********************\n",
            "Welcome to BITS, Pilani\n",
            "***********************\n",
            "\n",
            "\n",
            "All Rights Reserved\n"
          ]
        }
      ]
    },
    {
      "cell_type": "code",
      "source": [
        "def find_even_odd(number_list):\n",
        "  even_numbers = []\n",
        "  odd_numbers = []\n",
        "\n",
        "  for number in number_list:\n",
        "    if number % 2 == 0 :\n",
        "      even_numbers.append(number)\n",
        "    else:\n",
        "      odd_numbers.append(number)\n",
        "    \n",
        "  print(\"Even Numbers\")\n",
        "  for number in even_numbers:\n",
        "    print(number)\n",
        "    \n",
        "  print(\"Odd Numbers\")\n",
        "  for number in odd_numbers:\n",
        "    print(number)\n",
        "\n",
        "number_list = [1,2,3,4,5,6]\n",
        "find_even_odd(number_list)"
      ],
      "metadata": {
        "colab": {
          "base_uri": "https://localhost:8080/"
        },
        "id": "MoooKJ8vbIxK",
        "outputId": "35fddd09-0c45-4ad6-bc01-ad6f80cb1259"
      },
      "execution_count": 36,
      "outputs": [
        {
          "output_type": "stream",
          "name": "stdout",
          "text": [
            "Even Numbers\n",
            "2\n",
            "4\n",
            "6\n",
            "Odd Numbers\n",
            "1\n",
            "3\n",
            "5\n"
          ]
        }
      ]
    },
    {
      "cell_type": "markdown",
      "source": [
        "Exercise  \n",
        "Q1. Write a function called draw_rectangle that takes two arguments length and height and prints an outcome an length * height box consisting of asterisks.\n",
        "\n",
        "1. Call that function with length = 5 and height = 3\n",
        "2. Call that function with length = 10 and height = 5"
      ],
      "metadata": {
        "id": "hus0G5IIhO7w"
      }
    },
    {
      "cell_type": "code",
      "source": [
        "def draw_rectangle(length, height):\n",
        "  for i in range(height):\n",
        "    print('*' * length)\n",
        "\n",
        "draw_rectangle(5, 3)\n",
        "\n",
        "draw_rectangle(10, 5)"
      ],
      "metadata": {
        "colab": {
          "base_uri": "https://localhost:8080/"
        },
        "id": "UOEr-RBChQMO",
        "outputId": "54c296a8-c7d4-421b-f769-0d18a4f12a57"
      },
      "execution_count": 41,
      "outputs": [
        {
          "output_type": "stream",
          "name": "stdout",
          "text": [
            "*****\n",
            "*****\n",
            "*****\n",
            "**********\n",
            "**********\n",
            "**********\n",
            "**********\n",
            "**********\n"
          ]
        }
      ]
    },
    {
      "cell_type": "markdown",
      "source": [
        "Q2. Write a function called sum_digits that is given an integer num and returns the sum of the digits of sum."
      ],
      "metadata": {
        "id": "PUUxoIEoie6r"
      }
    },
    {
      "cell_type": "code",
      "source": [
        "def sum_digits(number):\n",
        "  sum = 0\n",
        "  string = str(number)\n",
        "  for number in string:\n",
        "    number = int(number)\n",
        "    sum = sum + number\n",
        "    \n",
        "  return sum\n",
        "\n",
        "number = 1234\n",
        "sum = sum_digits(number)\n",
        "print(sum)"
      ],
      "metadata": {
        "colab": {
          "base_uri": "https://localhost:8080/"
        },
        "id": "3XzT4Xb0igXR",
        "outputId": "1215dae3-8ca0-453a-c2c0-a0cb9a73add1"
      },
      "execution_count": 48,
      "outputs": [
        {
          "output_type": "stream",
          "name": "stdout",
          "text": [
            "10\n"
          ]
        }
      ]
    },
    {
      "cell_type": "markdown",
      "source": [
        "Q3. Write a function called len_upper that accepts string as input and returns the number of capital letters present in the string. If no capital letters are present in the then prints the error message in the function then returns -1 as output."
      ],
      "metadata": {
        "id": "RuacrQi3qixH"
      }
    },
    {
      "cell_type": "code",
      "source": [
        "def len_upper(string):\n",
        "    \n",
        "    count = 0 \n",
        "    \n",
        "    for letter in string:\n",
        "        if letter.isupper():\n",
        "            count = count + 1\n",
        "    \n",
        "    if count == 0 :\n",
        "        print(\"No capital letters are present in the given string \", string)\n",
        "        count = -1\n",
        "            \n",
        "    return count\n",
        "\n",
        "\n",
        "string = \"AbCdEf\"\n",
        "count = len_upper(string)\n",
        "print(\"The count of capital letters in the string \", string , \" is \", count )\n",
        "\n",
        "string = \"abcdef\"\n",
        "count = len_upper(string)\n",
        "print(\"The count of capital letters in the string \", string , \" is \", count )"
      ],
      "metadata": {
        "colab": {
          "base_uri": "https://localhost:8080/"
        },
        "id": "DQ0AlRxDqjv4",
        "outputId": "62cfa18b-0d91-4080-e430-f73280fa51d7"
      },
      "execution_count": 74,
      "outputs": [
        {
          "output_type": "stream",
          "name": "stdout",
          "text": [
            "The count of capital letters in the string  AbCdEf  is  3\n",
            "No capital letters are present in the given string  abcdef\n",
            "The count of capital letters in the string  abcdef  is  -1\n"
          ]
        }
      ]
    }
  ]
}