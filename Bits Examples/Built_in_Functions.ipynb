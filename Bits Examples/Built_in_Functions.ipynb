{
  "nbformat": 4,
  "nbformat_minor": 0,
  "metadata": {
    "colab": {
      "provenance": []
    },
    "kernelspec": {
      "name": "python3",
      "display_name": "Python 3"
    },
    "language_info": {
      "name": "python"
    }
  },
  "cells": [
    {
      "cell_type": "markdown",
      "source": [
        "# **Built-in Functions**"
      ],
      "metadata": {
        "id": "gqQKilQPrv2x"
      }
    },
    {
      "cell_type": "markdown",
      "source": [
        "Examples"
      ],
      "metadata": {
        "id": "91Hk78eAr03Y"
      }
    },
    {
      "cell_type": "code",
      "source": [
        "help(len)"
      ],
      "metadata": {
        "colab": {
          "base_uri": "https://localhost:8080/"
        },
        "id": "4FizyA6Rr6aY",
        "outputId": "3117f9bc-e0b6-4d3a-aa31-116f4ff2fd68"
      },
      "execution_count": 1,
      "outputs": [
        {
          "output_type": "stream",
          "name": "stdout",
          "text": [
            "Help on built-in function len in module builtins:\n",
            "\n",
            "len(obj, /)\n",
            "    Return the number of items in a container.\n",
            "\n"
          ]
        }
      ]
    },
    {
      "cell_type": "code",
      "source": [
        "my_list = [1, 2 ,3, 'a','f']\n",
        "len(my_list) # returns the number of elements in the list"
      ],
      "metadata": {
        "colab": {
          "base_uri": "https://localhost:8080/"
        },
        "id": "ERqgxDHsr_bg",
        "outputId": "cd1cfe85-8207-4020-b1cd-9ddd4aa39590"
      },
      "execution_count": 2,
      "outputs": [
        {
          "output_type": "execute_result",
          "data": {
            "text/plain": [
              "5"
            ]
          },
          "metadata": {},
          "execution_count": 2
        }
      ]
    },
    {
      "cell_type": "code",
      "source": [
        "help(max)"
      ],
      "metadata": {
        "colab": {
          "base_uri": "https://localhost:8080/"
        },
        "id": "_v96UAN-sKuR",
        "outputId": "f3b66d22-9982-437e-fa88-422f12220684"
      },
      "execution_count": 3,
      "outputs": [
        {
          "output_type": "stream",
          "name": "stdout",
          "text": [
            "Help on built-in function max in module builtins:\n",
            "\n",
            "max(...)\n",
            "    max(iterable, *[, default=obj, key=func]) -> value\n",
            "    max(arg1, arg2, *args, *[, key=func]) -> value\n",
            "    \n",
            "    With a single iterable argument, return its biggest item. The\n",
            "    default keyword-only argument specifies an object to return if\n",
            "    the provided iterable is empty.\n",
            "    With two or more arguments, return the largest argument.\n",
            "\n"
          ]
        }
      ]
    },
    {
      "cell_type": "code",
      "source": [
        "my_list = [1, 2, 3, 4, 5]\n",
        "max(my_list) # returns the maximum element in the list"
      ],
      "metadata": {
        "colab": {
          "base_uri": "https://localhost:8080/"
        },
        "id": "EYva4uQasNuo",
        "outputId": "30970863-1bea-4928-d85a-3b17c6a08bb8"
      },
      "execution_count": 5,
      "outputs": [
        {
          "output_type": "execute_result",
          "data": {
            "text/plain": [
              "5"
            ]
          },
          "metadata": {},
          "execution_count": 5
        }
      ]
    },
    {
      "cell_type": "code",
      "source": [
        "my_list = [1, 2, 3, 4, 5]\n",
        "min(my_list) # returns the minimum element in the list"
      ],
      "metadata": {
        "colab": {
          "base_uri": "https://localhost:8080/"
        },
        "id": "KMuLK5C1sdfB",
        "outputId": "842d20f3-7104-4adc-808d-d77c98fd6b7e"
      },
      "execution_count": 6,
      "outputs": [
        {
          "output_type": "execute_result",
          "data": {
            "text/plain": [
              "1"
            ]
          },
          "metadata": {},
          "execution_count": 6
        }
      ]
    },
    {
      "cell_type": "code",
      "source": [
        "my_list = [1, 2, 3, 4, 5]\n",
        "sum(my_list) # returns sum of elemnets in the list"
      ],
      "metadata": {
        "colab": {
          "base_uri": "https://localhost:8080/"
        },
        "id": "gjZioLxyskzg",
        "outputId": "2d4eea5e-72a9-4558-cc9f-434a0bcc5ca2"
      },
      "execution_count": 7,
      "outputs": [
        {
          "output_type": "execute_result",
          "data": {
            "text/plain": [
              "15"
            ]
          },
          "metadata": {},
          "execution_count": 7
        }
      ]
    },
    {
      "cell_type": "markdown",
      "source": [
        "**Type()**"
      ],
      "metadata": {
        "id": "zlE-yvm9sxKp"
      }
    },
    {
      "cell_type": "code",
      "source": [
        "x = 4.6\n",
        "print(\"Type of x is \", type(x))\n",
        "\n",
        "x = 4\n",
        "print(\"Type of x is \", type(x))\n",
        "\n",
        "x = \"string\"\n",
        "print(\"Type of x is \", type(x))"
      ],
      "metadata": {
        "colab": {
          "base_uri": "https://localhost:8080/"
        },
        "id": "2TtKbbU5sziS",
        "outputId": "adc54dc1-faa8-4556-da8a-7b51c04d7e04"
      },
      "execution_count": 9,
      "outputs": [
        {
          "output_type": "stream",
          "name": "stdout",
          "text": [
            "Type of x is  <class 'float'>\n",
            "Type of x is  <class 'int'>\n",
            "Type of x is  <class 'str'>\n"
          ]
        }
      ]
    },
    {
      "cell_type": "markdown",
      "source": [
        "**Sorted List**"
      ],
      "metadata": {
        "id": "EqKXZA81tWzQ"
      }
    },
    {
      "cell_type": "markdown",
      "source": [
        "Example"
      ],
      "metadata": {
        "id": "Sp5-DDg_tg9A"
      }
    },
    {
      "cell_type": "code",
      "source": [
        "my_list = [1, 4, -3, -4, 0, 5]\n",
        "print(sorted(my_list)) # arranges the list in specified order"
      ],
      "metadata": {
        "colab": {
          "base_uri": "https://localhost:8080/"
        },
        "id": "jnNeLfxztZY5",
        "outputId": "e709c610-9971-4838-91cb-03631032d551"
      },
      "execution_count": 12,
      "outputs": [
        {
          "output_type": "stream",
          "name": "stdout",
          "text": [
            "[-4, -3, 0, 1, 4, 5]\n"
          ]
        }
      ]
    },
    {
      "cell_type": "code",
      "source": [
        "my_tuple = (1, 4, -3, -4, 0, 5)\n",
        "print(sorted(my_tuple)) # arranges the tuple in specified order"
      ],
      "metadata": {
        "colab": {
          "base_uri": "https://localhost:8080/"
        },
        "id": "TuxAwTQ4teRw",
        "outputId": "50c5128c-b52e-4382-dc56-ffae5316e519"
      },
      "execution_count": 45,
      "outputs": [
        {
          "output_type": "stream",
          "name": "stdout",
          "text": [
            "[-4, -3, 0, 1, 4, 5]\n"
          ]
        }
      ]
    },
    {
      "cell_type": "markdown",
      "source": [
        "**reversed()**"
      ],
      "metadata": {
        "id": "XJ1AzMPNuA85"
      }
    },
    {
      "cell_type": "markdown",
      "source": [
        "Example"
      ],
      "metadata": {
        "id": "RrRUSdTTuD-X"
      }
    },
    {
      "cell_type": "code",
      "source": [
        "my_list = [1, 4, -3, -4, 0, 5]\n",
        "reversed_list = list(reversed(my_list))\n",
        "print(reversed_list) # returns the list in reversed order"
      ],
      "metadata": {
        "colab": {
          "base_uri": "https://localhost:8080/"
        },
        "id": "FVlGqonJuFGY",
        "outputId": "4bd8d23b-d6e0-470a-b98d-d4b2b178ec26"
      },
      "execution_count": 14,
      "outputs": [
        {
          "output_type": "stream",
          "name": "stdout",
          "text": [
            "[5, 0, -4, -3, 4, 1]\n"
          ]
        }
      ]
    },
    {
      "cell_type": "code",
      "source": [
        "my_tuple = (1, 4, -3, -4, 0, 5)\n",
        "reversed_tuple = tuple(reversed(my_tuple))\n",
        "print(reversed_tuple) # returns the tuple in reversed order"
      ],
      "metadata": {
        "colab": {
          "base_uri": "https://localhost:8080/"
        },
        "id": "x1uIFNk9upUg",
        "outputId": "de2aff3c-d149-42a8-9c5e-150595bd1ec6"
      },
      "execution_count": 17,
      "outputs": [
        {
          "output_type": "stream",
          "name": "stdout",
          "text": [
            "(5, 0, -4, -3, 4, 1)\n"
          ]
        }
      ]
    },
    {
      "cell_type": "markdown",
      "source": [
        "**Type Conversion Functions**\n",
        " - returns type of variable or object"
      ],
      "metadata": {
        "id": "i8p-JivcvM_B"
      }
    },
    {
      "cell_type": "markdown",
      "source": [
        "Example"
      ],
      "metadata": {
        "id": "2rJhdsc6vRB_"
      }
    },
    {
      "cell_type": "code",
      "source": [
        "int('123')"
      ],
      "metadata": {
        "colab": {
          "base_uri": "https://localhost:8080/"
        },
        "id": "t8AXHC9_vTZo",
        "outputId": "ca1112e3-b105-4605-cbd5-1a5db70691f0"
      },
      "execution_count": 18,
      "outputs": [
        {
          "output_type": "execute_result",
          "data": {
            "text/plain": [
              "123"
            ]
          },
          "metadata": {},
          "execution_count": 18
        }
      ]
    },
    {
      "cell_type": "code",
      "source": [
        "float(123)"
      ],
      "metadata": {
        "colab": {
          "base_uri": "https://localhost:8080/"
        },
        "id": "wwklmo_XvXXQ",
        "outputId": "cc982dc8-d5d5-4325-99e6-5fba5ac0a6e0"
      },
      "execution_count": 19,
      "outputs": [
        {
          "output_type": "execute_result",
          "data": {
            "text/plain": [
              "123.0"
            ]
          },
          "metadata": {},
          "execution_count": 19
        }
      ]
    },
    {
      "cell_type": "code",
      "source": [
        "str(123.45)"
      ],
      "metadata": {
        "colab": {
          "base_uri": "https://localhost:8080/",
          "height": 35
        },
        "id": "yfmd-Jygvaag",
        "outputId": "ed9c1f54-53f3-460f-b7e4-52ea5beb0154"
      },
      "execution_count": 21,
      "outputs": [
        {
          "output_type": "execute_result",
          "data": {
            "text/plain": [
              "'123.45'"
            ],
            "application/vnd.google.colaboratory.intrinsic+json": {
              "type": "string"
            }
          },
          "metadata": {},
          "execution_count": 21
        }
      ]
    },
    {
      "cell_type": "code",
      "source": [
        "bool(1)"
      ],
      "metadata": {
        "colab": {
          "base_uri": "https://localhost:8080/"
        },
        "id": "qKREpGg_vhsf",
        "outputId": "4f6a74d8-c260-43f9-a14e-26a4521e1214"
      },
      "execution_count": 22,
      "outputs": [
        {
          "output_type": "execute_result",
          "data": {
            "text/plain": [
              "True"
            ]
          },
          "metadata": {},
          "execution_count": 22
        }
      ]
    },
    {
      "cell_type": "markdown",
      "source": [
        "**Calling Functions from Built-in Modules**"
      ],
      "metadata": {
        "id": "ViStVZQDvmrA"
      }
    },
    {
      "cell_type": "markdown",
      "source": [
        "**Random Number Functions**"
      ],
      "metadata": {
        "id": "MDfvpzYNwE8I"
      }
    },
    {
      "cell_type": "markdown",
      "source": [
        "Example"
      ],
      "metadata": {
        "id": "mSi29G3UwBz3"
      }
    },
    {
      "cell_type": "code",
      "source": [
        "import random\n",
        "\n",
        "#help(random)\n",
        "\n",
        "print(random.random())"
      ],
      "metadata": {
        "colab": {
          "base_uri": "https://localhost:8080/"
        },
        "id": "LkVx3_EuwC7Y",
        "outputId": "611b18a0-39a7-493c-d271-6c09bad73bc8"
      },
      "execution_count": 44,
      "outputs": [
        {
          "output_type": "stream",
          "name": "stdout",
          "text": [
            "0.10345008343002171\n"
          ]
        }
      ]
    },
    {
      "cell_type": "code",
      "source": [
        "print(random.randint(5,10))\n",
        "print(random.randint(5, 10))\n",
        "print(random.randint(5, 10))\n",
        "print(random.randint(5, 10))"
      ],
      "metadata": {
        "colab": {
          "base_uri": "https://localhost:8080/"
        },
        "id": "Wc7M7Moywr5f",
        "outputId": "e37bc661-fcf5-4198-fbde-e133bf8c4a9a"
      },
      "execution_count": 25,
      "outputs": [
        {
          "output_type": "stream",
          "name": "stdout",
          "text": [
            "9\n",
            "9\n",
            "10\n",
            "6\n"
          ]
        }
      ]
    },
    {
      "cell_type": "code",
      "source": [
        "for i in range(6):\n",
        "  print(random.randint(5, 100))"
      ],
      "metadata": {
        "colab": {
          "base_uri": "https://localhost:8080/"
        },
        "id": "cQbXrtbLw_bu",
        "outputId": "1115290b-79e6-4a5c-f5a6-0b54f905b59b"
      },
      "execution_count": 27,
      "outputs": [
        {
          "output_type": "stream",
          "name": "stdout",
          "text": [
            "52\n",
            "25\n",
            "64\n",
            "44\n",
            "17\n",
            "6\n"
          ]
        }
      ]
    },
    {
      "cell_type": "markdown",
      "source": [
        "**Math Functions**"
      ],
      "metadata": {
        "id": "v776YBqmxNAP"
      }
    },
    {
      "cell_type": "markdown",
      "source": [
        "Example"
      ],
      "metadata": {
        "id": "X9MWC3YTxQdI"
      }
    },
    {
      "cell_type": "code",
      "source": [
        "import math\n",
        "\n",
        "print(math.floor(1.4))\n",
        "print(math.ceil(1.4))\n",
        "print(math.isnan(2))\n",
        "print(math.sqrt(5))\n"
      ],
      "metadata": {
        "colab": {
          "base_uri": "https://localhost:8080/"
        },
        "id": "-l-0Juj7xRlQ",
        "outputId": "b6784c7b-1a8e-4415-9c9d-9b29a188341a"
      },
      "execution_count": 28,
      "outputs": [
        {
          "output_type": "stream",
          "name": "stdout",
          "text": [
            "1\n",
            "2\n",
            "False\n",
            "2.23606797749979\n"
          ]
        }
      ]
    },
    {
      "cell_type": "markdown",
      "source": [
        "# **Excercise**"
      ],
      "metadata": {
        "id": "GtgG2JI4ztIl"
      }
    },
    {
      "cell_type": "markdown",
      "source": [
        "Q1. Explore different built in functions available on string data structure for\n",
        "- determining whether a string is alphanumeric or not - finding out index of a substring - finding out whether string is identifier or not "
      ],
      "metadata": {
        "id": "xJPSu1L-zwk_"
      }
    },
    {
      "cell_type": "markdown",
      "source": [
        "**Solution**"
      ],
      "metadata": {
        "id": "enNRr4QG0x-9"
      }
    },
    {
      "cell_type": "code",
      "source": [
        "string = \" This is my string\"\n",
        "\n",
        "print(string.isalnum())"
      ],
      "metadata": {
        "colab": {
          "base_uri": "https://localhost:8080/"
        },
        "id": "lTXkfJB3zzoP",
        "outputId": "a3e9f6e5-d199-4c53-dcb9-ee6b02de64bd"
      },
      "execution_count": 29,
      "outputs": [
        {
          "output_type": "stream",
          "name": "stdout",
          "text": [
            "False\n"
          ]
        }
      ]
    },
    {
      "cell_type": "code",
      "source": [
        "print(string.find(\"is\"))"
      ],
      "metadata": {
        "colab": {
          "base_uri": "https://localhost:8080/"
        },
        "id": "mI1UA7F20Hrn",
        "outputId": "df0d2140-a706-477a-ef04-59ba271a52a6"
      },
      "execution_count": 30,
      "outputs": [
        {
          "output_type": "stream",
          "name": "stdout",
          "text": [
            "3\n"
          ]
        }
      ]
    },
    {
      "cell_type": "code",
      "source": [
        "print(string.isidentifier())"
      ],
      "metadata": {
        "colab": {
          "base_uri": "https://localhost:8080/"
        },
        "id": "yzzBF32I0NIV",
        "outputId": "4916e71d-5705-4aa3-aead-194a84e34bb5"
      },
      "execution_count": 31,
      "outputs": [
        {
          "output_type": "stream",
          "name": "stdout",
          "text": [
            "False\n"
          ]
        }
      ]
    },
    {
      "cell_type": "code",
      "source": [
        "string = \"if\"\n",
        "print(string.isidentifier())"
      ],
      "metadata": {
        "colab": {
          "base_uri": "https://localhost:8080/"
        },
        "id": "jZCxI8yF0Wbn",
        "outputId": "b655fae6-d767-4c6b-957e-1d29a80235c8"
      },
      "execution_count": 32,
      "outputs": [
        {
          "output_type": "stream",
          "name": "stdout",
          "text": [
            "True\n"
          ]
        }
      ]
    },
    {
      "cell_type": "markdown",
      "source": [
        "**Q2. Explore following Python built in functions.**"
      ],
      "metadata": {
        "id": "SZXu9ieC0p22"
      }
    },
    {
      "cell_type": "markdown",
      "source": [
        "**Solution**"
      ],
      "metadata": {
        "id": "k0iSxNju0scv"
      }
    },
    {
      "cell_type": "markdown",
      "source": [
        "**abs**\n",
        "- Return the absolute value of a number"
      ],
      "metadata": {
        "id": "IY_acGSg1xTt"
      }
    },
    {
      "cell_type": "code",
      "source": [
        "x = abs(-7.25)\n",
        "print(x)"
      ],
      "metadata": {
        "colab": {
          "base_uri": "https://localhost:8080/"
        },
        "id": "B_4nCadI0vkW",
        "outputId": "6e0425d5-9769-4c23-e648-8bd76a4a1176"
      },
      "execution_count": 35,
      "outputs": [
        {
          "output_type": "stream",
          "name": "stdout",
          "text": [
            "7.25\n"
          ]
        }
      ]
    },
    {
      "cell_type": "code",
      "source": [
        "x = abs(3+5j)\n",
        "print(x)"
      ],
      "metadata": {
        "colab": {
          "base_uri": "https://localhost:8080/"
        },
        "id": "izopXLx21h73",
        "outputId": "8d3cd74d-1b1d-40d7-82d9-825a4c5262df"
      },
      "execution_count": 36,
      "outputs": [
        {
          "output_type": "stream",
          "name": "stdout",
          "text": [
            "5.830951894845301\n"
          ]
        }
      ]
    },
    {
      "cell_type": "markdown",
      "source": [
        "**dir**\n",
        " - The dir() function returns all properties and methods of the specified object, without the values."
      ],
      "metadata": {
        "id": "ziLSW69e1z09"
      }
    },
    {
      "cell_type": "code",
      "source": [
        "class Person:\n",
        "  Name = \"John\"\n",
        "  age = 36\n",
        "  country = \"India\"\n",
        "print(dir(Person))"
      ],
      "metadata": {
        "colab": {
          "base_uri": "https://localhost:8080/"
        },
        "id": "rPXaEMab11tt",
        "outputId": "be30ceda-b95c-4511-ddc2-5051215fbb09"
      },
      "execution_count": 37,
      "outputs": [
        {
          "output_type": "stream",
          "name": "stdout",
          "text": [
            "['Name', '__class__', '__delattr__', '__dict__', '__dir__', '__doc__', '__eq__', '__format__', '__ge__', '__getattribute__', '__gt__', '__hash__', '__init__', '__init_subclass__', '__le__', '__lt__', '__module__', '__ne__', '__new__', '__reduce__', '__reduce_ex__', '__repr__', '__setattr__', '__sizeof__', '__str__', '__subclasshook__', '__weakref__', 'age', 'country']\n"
          ]
        }
      ]
    },
    {
      "cell_type": "markdown",
      "source": [
        "**eval** \n",
        "\n",
        "- The eval() function evaluates the specified expression, if the expression is a legal Python statement, it will be executed."
      ],
      "metadata": {
        "id": "yYXksQny2e7V"
      }
    },
    {
      "cell_type": "code",
      "source": [
        "x = 'print(55)'\n",
        "eval(x)"
      ],
      "metadata": {
        "colab": {
          "base_uri": "https://localhost:8080/"
        },
        "id": "iW2OacPD2g8n",
        "outputId": "52b00c06-ff35-4abf-a15e-f54001800bcb"
      },
      "execution_count": 38,
      "outputs": [
        {
          "output_type": "stream",
          "name": "stdout",
          "text": [
            "55\n"
          ]
        }
      ]
    },
    {
      "cell_type": "markdown",
      "source": [
        "**format**\n",
        "- The format() function formats a specified value into a specified format."
      ],
      "metadata": {
        "id": "1mTr9g7c3DyH"
      }
    },
    {
      "cell_type": "code",
      "source": [
        "x = format(0.5, '%')\n",
        "print(x)"
      ],
      "metadata": {
        "colab": {
          "base_uri": "https://localhost:8080/"
        },
        "id": "bR7ZF0eO3JWV",
        "outputId": "d3f94589-dec9-45df-cade-fff56b8e38c0"
      },
      "execution_count": 39,
      "outputs": [
        {
          "output_type": "stream",
          "name": "stdout",
          "text": [
            "50.000000%\n"
          ]
        }
      ]
    },
    {
      "cell_type": "markdown",
      "source": [
        "**range()**\n",
        "- The range() function returns a sequence of numbers, starting from 0 by default, and increments by 1 (by default), and stops before a specified number."
      ],
      "metadata": {
        "id": "80rgaW1M3Y3E"
      }
    },
    {
      "cell_type": "code",
      "source": [
        "for x in range(3,6):\n",
        "  print(x)"
      ],
      "metadata": {
        "colab": {
          "base_uri": "https://localhost:8080/"
        },
        "id": "cxg0wyo93cBc",
        "outputId": "487d7a5e-28f9-481b-d294-32dd54c3ad00"
      },
      "execution_count": 40,
      "outputs": [
        {
          "output_type": "stream",
          "name": "stdout",
          "text": [
            "3\n",
            "4\n",
            "5\n"
          ]
        }
      ]
    },
    {
      "cell_type": "markdown",
      "source": [
        "**round()**\n",
        "- The round() function returns a floating point number that is a rounded version of the specified number, with the specified number of decimals."
      ],
      "metadata": {
        "id": "sYqJsaNt3rYE"
      }
    },
    {
      "cell_type": "code",
      "source": [
        "x = round(5.6543245, 2)\n",
        "print(x)"
      ],
      "metadata": {
        "colab": {
          "base_uri": "https://localhost:8080/"
        },
        "id": "M64awwic3uxN",
        "outputId": "89b76c91-7538-4d43-9543-ea6081f7f381"
      },
      "execution_count": 42,
      "outputs": [
        {
          "output_type": "stream",
          "name": "stdout",
          "text": [
            "5.65\n"
          ]
        }
      ]
    },
    {
      "cell_type": "markdown",
      "source": [
        "**Q3. Explore the functions in built-in module calendar.**"
      ],
      "metadata": {
        "id": "5nBa78Px39Z-"
      }
    },
    {
      "cell_type": "markdown",
      "source": [
        "**Solution**"
      ],
      "metadata": {
        "id": "B8e_dY_j3_lt"
      }
    },
    {
      "cell_type": "code",
      "source": [
        "import calendar\n",
        "\n",
        "#TextCalendar\n",
        "\n",
        "#create a calendar starting with Sunday as first day \n",
        "txtCalendar = calendar.TextCalendar(calendar.SUNDAY)\n",
        "\n",
        "#Prepare calendar for June 2019\n",
        "calendar_string = txtCalendar.formatmonth(2019, 6)\n",
        "\n",
        "print(\"Calendar for June 2019\")\n",
        "print(calendar_string)\n",
        "\n",
        "#HTML Calendar \n",
        "#create a calendar starting with Thursday as first day \n",
        "htmlCalendar = calendar.HTMLCalendar(calendar.THURSDAY)\n",
        "\n",
        "#Prepare calendar for June 2019\n",
        "calendar_string = htmlCalendar.formatmonth(2019, 6)\n",
        "\n",
        "print(\"Calendar for June 2019\")\n",
        "print(calendar_string)\n",
        "\n",
        "#Loops over the days of a month by using itermonthday (year,month), it will fetch the total \n",
        "#number of days for that month.\n",
        "print(\"Days in January 1\")\n",
        "for i in txtCalendar.itermonthdays(2019, 1):\n",
        "    print(i)\n",
        "    \n",
        "#fetch the data from the local system, like months or weekdays, etc    \n",
        "print(\"Months list\")\n",
        "for month in calendar.month_name:\n",
        "    print(month)\n"
      ],
      "metadata": {
        "colab": {
          "base_uri": "https://localhost:8080/"
        },
        "id": "KCaG4AhZ4B5U",
        "outputId": "4dda0ce9-9c57-4946-f7e9-735a1d779c14"
      },
      "execution_count": 43,
      "outputs": [
        {
          "output_type": "stream",
          "name": "stdout",
          "text": [
            "Calendar for June 2019\n",
            "     June 2019\n",
            "Su Mo Tu We Th Fr Sa\n",
            "                   1\n",
            " 2  3  4  5  6  7  8\n",
            " 9 10 11 12 13 14 15\n",
            "16 17 18 19 20 21 22\n",
            "23 24 25 26 27 28 29\n",
            "30\n",
            "\n",
            "Calendar for June 2019\n",
            "<table border=\"0\" cellpadding=\"0\" cellspacing=\"0\" class=\"month\">\n",
            "<tr><th colspan=\"7\" class=\"month\">June 2019</th></tr>\n",
            "<tr><th class=\"thu\">Thu</th><th class=\"fri\">Fri</th><th class=\"sat\">Sat</th><th class=\"sun\">Sun</th><th class=\"mon\">Mon</th><th class=\"tue\">Tue</th><th class=\"wed\">Wed</th></tr>\n",
            "<tr><td class=\"noday\">&nbsp;</td><td class=\"noday\">&nbsp;</td><td class=\"sat\">1</td><td class=\"sun\">2</td><td class=\"mon\">3</td><td class=\"tue\">4</td><td class=\"wed\">5</td></tr>\n",
            "<tr><td class=\"thu\">6</td><td class=\"fri\">7</td><td class=\"sat\">8</td><td class=\"sun\">9</td><td class=\"mon\">10</td><td class=\"tue\">11</td><td class=\"wed\">12</td></tr>\n",
            "<tr><td class=\"thu\">13</td><td class=\"fri\">14</td><td class=\"sat\">15</td><td class=\"sun\">16</td><td class=\"mon\">17</td><td class=\"tue\">18</td><td class=\"wed\">19</td></tr>\n",
            "<tr><td class=\"thu\">20</td><td class=\"fri\">21</td><td class=\"sat\">22</td><td class=\"sun\">23</td><td class=\"mon\">24</td><td class=\"tue\">25</td><td class=\"wed\">26</td></tr>\n",
            "<tr><td class=\"thu\">27</td><td class=\"fri\">28</td><td class=\"sat\">29</td><td class=\"sun\">30</td><td class=\"noday\">&nbsp;</td><td class=\"noday\">&nbsp;</td><td class=\"noday\">&nbsp;</td></tr>\n",
            "</table>\n",
            "\n",
            "Days in January 1\n",
            "0\n",
            "0\n",
            "1\n",
            "2\n",
            "3\n",
            "4\n",
            "5\n",
            "6\n",
            "7\n",
            "8\n",
            "9\n",
            "10\n",
            "11\n",
            "12\n",
            "13\n",
            "14\n",
            "15\n",
            "16\n",
            "17\n",
            "18\n",
            "19\n",
            "20\n",
            "21\n",
            "22\n",
            "23\n",
            "24\n",
            "25\n",
            "26\n",
            "27\n",
            "28\n",
            "29\n",
            "30\n",
            "31\n",
            "0\n",
            "0\n",
            "Months list\n",
            "\n",
            "January\n",
            "February\n",
            "March\n",
            "April\n",
            "May\n",
            "June\n",
            "July\n",
            "August\n",
            "September\n",
            "October\n",
            "November\n",
            "December\n"
          ]
        }
      ]
    }
  ]
}