{
  "nbformat": 4,
  "nbformat_minor": 0,
  "metadata": {
    "colab": {
      "provenance": []
    },
    "kernelspec": {
      "name": "python3",
      "display_name": "Python 3"
    },
    "language_info": {
      "name": "python"
    }
  },
  "cells": [
    {
      "cell_type": "markdown",
      "source": [
        "# **Parameters and Arguments**"
      ],
      "metadata": {
        "id": "b55qd8-JPEfx"
      }
    },
    {
      "cell_type": "markdown",
      "source": [
        "Example"
      ],
      "metadata": {
        "id": "dSRokrFGPMEe"
      }
    },
    {
      "cell_type": "code",
      "source": [
        "def print_lines(number):    # number is the parameter\n",
        "  for i in range(number):\n",
        "    print(\"Line\", i , \"\")\n",
        "\n",
        "\n",
        "number = 5\n",
        "print_lines(number)     # number is the argument"
      ],
      "metadata": {
        "colab": {
          "base_uri": "https://localhost:8080/"
        },
        "id": "7uTNUnDdPQ_H",
        "outputId": "f04cd049-7f2d-4944-95b5-8c16c45a4aec"
      },
      "execution_count": 1,
      "outputs": [
        {
          "output_type": "stream",
          "name": "stdout",
          "text": [
            "Line 0 \n",
            "Line 1 \n",
            "Line 2 \n",
            "Line 3 \n",
            "Line 4 \n"
          ]
        }
      ]
    },
    {
      "cell_type": "code",
      "source": [
        "def print_stars(times):  # times is the parameter\n",
        "  for i in range(times):\n",
        "    print(\"*\" * i)\n",
        "\n",
        "\n",
        "times = 5\n",
        "print_stars(times)  # times is the argument"
      ],
      "metadata": {
        "colab": {
          "base_uri": "https://localhost:8080/"
        },
        "id": "xllA1RDTP6TN",
        "outputId": "70f8815b-f9e8-45af-a951-1bf8755bb780"
      },
      "execution_count": 3,
      "outputs": [
        {
          "output_type": "stream",
          "name": "stdout",
          "text": [
            "\n",
            "*\n",
            "**\n",
            "***\n",
            "****\n"
          ]
        }
      ]
    },
    {
      "cell_type": "code",
      "source": [
        "def print_characters(character, times):\n",
        "  for i in range(times):\n",
        "    print(character * i)\n",
        "\n",
        "\n",
        "print_characters(\"#\", 5)"
      ],
      "metadata": {
        "colab": {
          "base_uri": "https://localhost:8080/"
        },
        "id": "ZXCXaAyeQuKr",
        "outputId": "951c85ca-3034-477d-cc55-63a933ffc756"
      },
      "execution_count": 4,
      "outputs": [
        {
          "output_type": "stream",
          "name": "stdout",
          "text": [
            "\n",
            "#\n",
            "##\n",
            "###\n",
            "####\n"
          ]
        }
      ]
    },
    {
      "cell_type": "markdown",
      "source": [
        "**Default Parameters**"
      ],
      "metadata": {
        "id": "kCIPu7s_SazF"
      }
    },
    {
      "cell_type": "markdown",
      "source": [
        "Example"
      ],
      "metadata": {
        "id": "KLpZFu2ySfzM"
      }
    },
    {
      "cell_type": "code",
      "source": [
        "def multiply(number, times = 2):\n",
        "  return number * times\n",
        "\n",
        "\n",
        "multiply(5)"
      ],
      "metadata": {
        "colab": {
          "base_uri": "https://localhost:8080/"
        },
        "id": "nCQ36J3_ShA9",
        "outputId": "a3dcd6ca-3232-4fcc-ab50-58fa236ae0b3"
      },
      "execution_count": 8,
      "outputs": [
        {
          "output_type": "execute_result",
          "data": {
            "text/plain": [
              "10"
            ]
          },
          "metadata": {},
          "execution_count": 8
        }
      ]
    },
    {
      "cell_type": "code",
      "source": [
        "multiply(5,4)"
      ],
      "metadata": {
        "colab": {
          "base_uri": "https://localhost:8080/"
        },
        "id": "u7towiY2TQ8k",
        "outputId": "40cdd44d-7463-4fef-c8e5-bfd3e48d2ec5"
      },
      "execution_count": 7,
      "outputs": [
        {
          "output_type": "execute_result",
          "data": {
            "text/plain": [
              "20"
            ]
          },
          "metadata": {},
          "execution_count": 7
        }
      ]
    },
    {
      "cell_type": "code",
      "source": [
        "def add_and_multiply(number1, number2, number3, times = 2):\n",
        "  return (number1 + number2 + number3) * times\n",
        "\n",
        "add_and_multiply(1,2,3)"
      ],
      "metadata": {
        "colab": {
          "base_uri": "https://localhost:8080/"
        },
        "id": "gzjeegl1TjL8",
        "outputId": "ff2ec938-4d02-463a-f445-fe55698a6b44"
      },
      "execution_count": 10,
      "outputs": [
        {
          "output_type": "execute_result",
          "data": {
            "text/plain": [
              "12"
            ]
          },
          "metadata": {},
          "execution_count": 10
        }
      ]
    },
    {
      "cell_type": "code",
      "source": [
        "add_and_multiply(1,2,3,5)"
      ],
      "metadata": {
        "colab": {
          "base_uri": "https://localhost:8080/"
        },
        "id": "kvj-LCvDTm1z",
        "outputId": "6bc32e5f-7f4b-4e5b-95a8-9c6a511e0c5b"
      },
      "execution_count": 11,
      "outputs": [
        {
          "output_type": "execute_result",
          "data": {
            "text/plain": [
              "30"
            ]
          },
          "metadata": {},
          "execution_count": 11
        }
      ]
    },
    {
      "cell_type": "markdown",
      "source": [
        "**Argument Modification**"
      ],
      "metadata": {
        "id": "0BBp5Gt2VXu8"
      }
    },
    {
      "cell_type": "markdown",
      "source": [
        "Example"
      ],
      "metadata": {
        "id": "g0X91gxKVas-"
      }
    },
    {
      "cell_type": "code",
      "source": [
        "def add(x):\n",
        "  return x + 1\n",
        "\n",
        "a = 5\n",
        "print(\"Return value before call\", a)\n",
        "b = add(a)\n",
        "print(\"Return value after call\", b)"
      ],
      "metadata": {
        "colab": {
          "base_uri": "https://localhost:8080/"
        },
        "id": "51beUsBdVb6e",
        "outputId": "06394757-b284-49b8-ccac-2bec2aae067e"
      },
      "execution_count": 20,
      "outputs": [
        {
          "output_type": "stream",
          "name": "stdout",
          "text": [
            "Return value before call 5\n",
            "Return value after call 6\n"
          ]
        }
      ]
    },
    {
      "cell_type": "code",
      "source": [
        "def to_lower(string):\n",
        "    return string.lower()\n"
      ],
      "metadata": {
        "id": "vEFtrzg4boWN"
      },
      "execution_count": 16,
      "outputs": []
    },
    {
      "cell_type": "code",
      "source": [
        "string = \"TeSt\"\n",
        "print(\"string before function call  : \", string)\n",
        "str1 = to_lower(string)\n",
        "print(\"string after function call  : \", str1)"
      ],
      "metadata": {
        "colab": {
          "base_uri": "https://localhost:8080/"
        },
        "id": "tQVqbsohcY8L",
        "outputId": "3e55fa46-2953-4661-e493-4057be0363b0"
      },
      "execution_count": 19,
      "outputs": [
        {
          "output_type": "stream",
          "name": "stdout",
          "text": [
            "string before function call  :  TeSt\n",
            "string after function call  :  test\n"
          ]
        }
      ]
    },
    {
      "cell_type": "code",
      "source": [
        "def add_element(list1):\n",
        "  list1.append(5)\n",
        "\n",
        "list1 = [1, 2, 3, 4, 5]\n",
        "print(\"List before call\", list1)\n",
        "add_element(list1)\n",
        "print(\"List after call\", list1)"
      ],
      "metadata": {
        "colab": {
          "base_uri": "https://localhost:8080/"
        },
        "id": "RT6oCXwif2tD",
        "outputId": "8e26d490-5da9-4774-d983-029c2eb5e858"
      },
      "execution_count": 23,
      "outputs": [
        {
          "output_type": "stream",
          "name": "stdout",
          "text": [
            "List before call [1, 2, 3, 4, 5]\n",
            "List after call [1, 2, 3, 4, 5, 5]\n"
          ]
        }
      ]
    },
    {
      "cell_type": "markdown",
      "source": [
        "**Unknown number of parameters**"
      ],
      "metadata": {
        "id": "C9u1ro6FmiFH"
      }
    },
    {
      "cell_type": "markdown",
      "source": [
        "Example"
      ],
      "metadata": {
        "id": "jCX9qULhmmD_"
      }
    },
    {
      "cell_type": "code",
      "source": [
        "def product(*times):\n",
        "  prod = 1\n",
        "  for i in times:\n",
        "    prod = prod * i\n",
        "  return prod\n",
        "\n",
        "product(2, 3)\n"
      ],
      "metadata": {
        "colab": {
          "base_uri": "https://localhost:8080/"
        },
        "id": "lBScTuw4mnTY",
        "outputId": "c1861aad-3ca5-4942-fbc8-cfcaf88900ce"
      },
      "execution_count": 28,
      "outputs": [
        {
          "output_type": "execute_result",
          "data": {
            "text/plain": [
              "6"
            ]
          },
          "metadata": {},
          "execution_count": 28
        }
      ]
    },
    {
      "cell_type": "code",
      "source": [
        "product(2, 3, 4)"
      ],
      "metadata": {
        "colab": {
          "base_uri": "https://localhost:8080/"
        },
        "id": "kqf_cJi8oITg",
        "outputId": "2c5b0472-7e6a-443c-c3dd-26e2d1bd52cb"
      },
      "execution_count": 29,
      "outputs": [
        {
          "output_type": "execute_result",
          "data": {
            "text/plain": [
              "24"
            ]
          },
          "metadata": {},
          "execution_count": 29
        }
      ]
    },
    {
      "cell_type": "code",
      "source": [
        "def min_max_list(list1):\n",
        "  min1 = min(list1)\n",
        "  max1 = max(list1)\n",
        "  return min1, max1\n",
        "\n",
        "\n",
        "list1 = [23, 45, 1, 56, 40]\n",
        "minimum, maximum = min_max_list(list1)\n",
        "print(\"Minimum\", minimum)\n",
        "print(\"Maximum\", maximum)"
      ],
      "metadata": {
        "colab": {
          "base_uri": "https://localhost:8080/"
        },
        "id": "TJKY1l2WoSRu",
        "outputId": "08dc5756-0eb7-416a-ac72-4c97a2127675"
      },
      "execution_count": 30,
      "outputs": [
        {
          "output_type": "stream",
          "name": "stdout",
          "text": [
            "Minimum 1\n",
            "Maximum 56\n"
          ]
        }
      ]
    }
  ]
}